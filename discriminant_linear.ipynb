{
 "cells": [
  {
   "cell_type": "code",
   "execution_count": 1,
   "id": "7c6af950",
   "metadata": {},
   "outputs": [
    {
     "data": {
      "text/html": [
       "<div>\n",
       "<style scoped>\n",
       "    .dataframe tbody tr th:only-of-type {\n",
       "        vertical-align: middle;\n",
       "    }\n",
       "\n",
       "    .dataframe tbody tr th {\n",
       "        vertical-align: top;\n",
       "    }\n",
       "\n",
       "    .dataframe thead th {\n",
       "        text-align: right;\n",
       "    }\n",
       "</style>\n",
       "<table border=\"1\" class=\"dataframe\">\n",
       "  <thead>\n",
       "    <tr style=\"text-align: right;\">\n",
       "      <th></th>\n",
       "      <th>x1</th>\n",
       "      <th>SAT</th>\n",
       "      <th>GPA</th>\n",
       "      <th>GRADUATE</th>\n",
       "    </tr>\n",
       "  </thead>\n",
       "  <tbody>\n",
       "    <tr>\n",
       "      <th>0</th>\n",
       "      <td>1</td>\n",
       "      <td>1300</td>\n",
       "      <td>2.7</td>\n",
       "      <td>yes</td>\n",
       "    </tr>\n",
       "    <tr>\n",
       "      <th>1</th>\n",
       "      <td>1</td>\n",
       "      <td>1260</td>\n",
       "      <td>3.7</td>\n",
       "      <td>yes</td>\n",
       "    </tr>\n",
       "    <tr>\n",
       "      <th>2</th>\n",
       "      <td>1</td>\n",
       "      <td>1220</td>\n",
       "      <td>2.9</td>\n",
       "      <td>yes</td>\n",
       "    </tr>\n",
       "    <tr>\n",
       "      <th>3</th>\n",
       "      <td>1</td>\n",
       "      <td>1180</td>\n",
       "      <td>2.5</td>\n",
       "      <td>yes</td>\n",
       "    </tr>\n",
       "    <tr>\n",
       "      <th>4</th>\n",
       "      <td>1</td>\n",
       "      <td>1060</td>\n",
       "      <td>3.9</td>\n",
       "      <td>yes</td>\n",
       "    </tr>\n",
       "    <tr>\n",
       "      <th>5</th>\n",
       "      <td>1</td>\n",
       "      <td>1140</td>\n",
       "      <td>2.1</td>\n",
       "      <td>no</td>\n",
       "    </tr>\n",
       "    <tr>\n",
       "      <th>6</th>\n",
       "      <td>1</td>\n",
       "      <td>1100</td>\n",
       "      <td>3.5</td>\n",
       "      <td>no</td>\n",
       "    </tr>\n",
       "    <tr>\n",
       "      <th>7</th>\n",
       "      <td>1</td>\n",
       "      <td>1020</td>\n",
       "      <td>3.3</td>\n",
       "      <td>no</td>\n",
       "    </tr>\n",
       "    <tr>\n",
       "      <th>8</th>\n",
       "      <td>1</td>\n",
       "      <td>980</td>\n",
       "      <td>2.3</td>\n",
       "      <td>no</td>\n",
       "    </tr>\n",
       "    <tr>\n",
       "      <th>9</th>\n",
       "      <td>1</td>\n",
       "      <td>940</td>\n",
       "      <td>3.1</td>\n",
       "      <td>no</td>\n",
       "    </tr>\n",
       "  </tbody>\n",
       "</table>\n",
       "</div>"
      ],
      "text/plain": [
       "   x1   SAT  GPA GRADUATE\n",
       "0   1  1300  2.7      yes\n",
       "1   1  1260  3.7      yes\n",
       "2   1  1220  2.9      yes\n",
       "3   1  1180  2.5      yes\n",
       "4   1  1060  3.9      yes\n",
       "5   1  1140  2.1       no\n",
       "6   1  1100  3.5       no\n",
       "7   1  1020  3.3       no\n",
       "8   1   980  2.3       no\n",
       "9   1   940  3.1       no"
      ]
     },
     "execution_count": 1,
     "metadata": {},
     "output_type": "execute_result"
    }
   ],
   "source": [
    "import numpy as np\n",
    "import pandas as pd\n",
    "df=pd.read_excel(\"C:\\\\Users\\\\y20cs95\\\\Desktop\\\\Book5.xlsx\")\n",
    "df"
   ]
  },
  {
   "cell_type": "code",
   "execution_count": 2,
   "id": "b47d55a2",
   "metadata": {},
   "outputs": [],
   "source": [
    "x1=df['x1']\n",
    "x2=df['SAT']\n",
    "x3=df['GPA']\n",
    "y=df['GRADUATE']\n"
   ]
  },
  {
   "cell_type": "code",
   "execution_count": 18,
   "id": "631ada84",
   "metadata": {},
   "outputs": [],
   "source": [
    "df['GRADUATE']=y.replace('yes', 1)"
   ]
  },
  {
   "cell_type": "code",
   "execution_count": 19,
   "id": "ea17c848",
   "metadata": {},
   "outputs": [],
   "source": [
    "df['GRADUATE']=y.replace('no', 0)"
   ]
  },
  {
   "cell_type": "code",
   "execution_count": 23,
   "id": "30c805f4",
   "metadata": {},
   "outputs": [],
   "source": [
    "y=df['GRADUATE']"
   ]
  },
  {
   "cell_type": "code",
   "execution_count": 31,
   "id": "0f394ce5",
   "metadata": {},
   "outputs": [],
   "source": [
    "Ytrans=np.array([y])\n",
    "Xtrans=np.array([x1,x2,x3])"
   ]
  },
  {
   "cell_type": "code",
   "execution_count": 30,
   "id": "e822c617",
   "metadata": {},
   "outputs": [],
   "source": [
    "def transpose(m):\n",
    "    res=[[0 for i in range(len(m))]for j in range(len(m[0]))]\n",
    "    for i in range(len(m[0])):\n",
    "        for j in range(len(m)):\n",
    "            res[i][j]=m[j][i]\n",
    "    return res"
   ]
  },
  {
   "cell_type": "code",
   "execution_count": 32,
   "id": "1148e5dc",
   "metadata": {},
   "outputs": [],
   "source": [
    "Y=transpose(Ytrans)\n",
    "X=transpose(Xtrans)"
   ]
  },
  {
   "cell_type": "code",
   "execution_count": 33,
   "id": "985798f9",
   "metadata": {},
   "outputs": [],
   "source": [
    "def display(m):\n",
    "    for i in range(len(m)):\n",
    "        for j in range(len(m[0])):\n",
    "            print(m[i][j],end=\" \")\n",
    "        print()"
   ]
  },
  {
   "cell_type": "code",
   "execution_count": 34,
   "id": "a1680d47",
   "metadata": {},
   "outputs": [],
   "source": [
    "def inverse(m):\n",
    "    s=np.linalg.inv(m) \n",
    "    return s"
   ]
  },
  {
   "cell_type": "code",
   "execution_count": 35,
   "id": "ce5858be",
   "metadata": {},
   "outputs": [],
   "source": [
    "def mul(m,n):\n",
    "    c=[[0 for i in range(len(n[0]))]for j in range(len(m))]\n",
    "    for i in range(len(m)):\n",
    "        for j in range(len(n[0])):\n",
    "            for k in range(len(n)):\n",
    "                c[i][j]=c[i][j]+(m[i][k]*n[k][j])\n",
    "    return c"
   ]
  },
  {
   "cell_type": "code",
   "execution_count": 37,
   "id": "8d352f80",
   "metadata": {},
   "outputs": [
    {
     "name": "stdout",
     "output_type": "stream",
     "text": [
      "-3.8391963497203943 \n",
      "0.0032326317338828565 \n",
      "0.2395496025905297 \n"
     ]
    }
   ],
   "source": [
    "xtx=mul(Xtrans,X)\n",
    "xtx_inv=inverse(xtx)\n",
    "xty=mul(Xtrans,Y)\n",
    "betacap=mul(xtx_inv,xty)\n",
    "display(betacap)"
   ]
  },
  {
   "cell_type": "code",
   "execution_count": 40,
   "id": "fe137278",
   "metadata": {},
   "outputs": [
    {
     "name": "stdout",
     "output_type": "stream",
     "text": [
      "3\n"
     ]
    }
   ],
   "source": [
    "b=np.ravel(betacap)\n",
    "print(len(b))"
   ]
  },
  {
   "cell_type": "code",
   "execution_count": 42,
   "id": "a4fa4a4c",
   "metadata": {},
   "outputs": [
    {
     "name": "stdout",
     "output_type": "stream",
     "text": [
      "equation is : y= -3.8391963497203943 + 0.0032326317338828565 SAT + 0.2395496025905297 GPA\n"
     ]
    }
   ],
   "source": [
    "for i in range(len(b)):\n",
    "    print(\"equation is : y=\",b[i],\"+\",b[i+1],\"SAT +\",b[i+2],\"GPA\")\n",
    "    break"
   ]
  },
  {
   "cell_type": "code",
   "execution_count": 45,
   "id": "b3a8aba1",
   "metadata": {},
   "outputs": [
    {
     "name": "stdout",
     "output_type": "stream",
     "text": [
      "enter sat value:1000\n",
      "enter gpa value:2.9\n",
      "0.08812923167499864\n"
     ]
    }
   ],
   "source": [
    "sat=int(input(\"enter sat value:\"))\n",
    "gpa=float(input(\"enter gpa value:\"))\n",
    "ycal=b[0]+(b[1]*sat)+(b[2]*gpa)\n",
    "print(ycal)"
   ]
  },
  {
   "cell_type": "code",
   "execution_count": 46,
   "id": "3cd1f681",
   "metadata": {},
   "outputs": [
    {
     "name": "stdout",
     "output_type": "stream",
     "text": [
      "not graduate\n"
     ]
    }
   ],
   "source": [
    "if(ycal<=0.5):\n",
    "    print(\"not graduate\")\n",
    "else:\n",
    "    print(\"graduate\")\n",
    "    "
   ]
  },
  {
   "cell_type": "code",
   "execution_count": null,
   "id": "e26761d8",
   "metadata": {},
   "outputs": [],
   "source": []
  }
 ],
 "metadata": {
  "kernelspec": {
   "display_name": "Python 3 (ipykernel)",
   "language": "python",
   "name": "python3"
  },
  "language_info": {
   "codemirror_mode": {
    "name": "ipython",
    "version": 3
   },
   "file_extension": ".py",
   "mimetype": "text/x-python",
   "name": "python",
   "nbconvert_exporter": "python",
   "pygments_lexer": "ipython3",
   "version": "3.9.7"
  }
 },
 "nbformat": 4,
 "nbformat_minor": 5
}
