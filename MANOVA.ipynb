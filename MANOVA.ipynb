{
 "cells": [
  {
   "cell_type": "code",
   "execution_count": 5,
   "id": "f6d3f9f8",
   "metadata": {},
   "outputs": [],
   "source": [
    "import pandas as pd\n",
    "import numpy as np\n",
    "df1=pd.read_excel(\"C:\\\\Users\\\\y20cs95\\\\Desktop\\\\Book1.xlsx\")\n",
    "df2=pd.read_excel(\"C:\\\\Users\\\\y20cs95\\\\Desktop\\\\Book2.xlsx\")\n",
    "df3=pd.read_excel(\"C:\\\\Users\\\\y20cs95\\\\Desktop\\\\Book3.xlsx\")"
   ]
  },
  {
   "cell_type": "code",
   "execution_count": 92,
   "id": "60ee9fc9",
   "metadata": {},
   "outputs": [
    {
     "name": "stdout",
     "output_type": "stream",
     "text": [
      "   n1  d1  n1d1\n",
      "0   9   3    27\n",
      "1   6   2    12\n",
      "2   9   7    63\n"
     ]
    },
    {
     "data": {
      "text/plain": [
       "3"
      ]
     },
     "execution_count": 92,
     "metadata": {},
     "output_type": "execute_result"
    }
   ],
   "source": [
    "print(df1)\n"
   ]
  },
  {
   "cell_type": "code",
   "execution_count": 7,
   "id": "28132ff2",
   "metadata": {},
   "outputs": [
    {
     "name": "stdout",
     "output_type": "stream",
     "text": [
      "   n2  d2\n",
      "0   0   4\n",
      "1   2   0\n"
     ]
    }
   ],
   "source": [
    "print(df2)"
   ]
  },
  {
   "cell_type": "code",
   "execution_count": 8,
   "id": "613b24e5",
   "metadata": {},
   "outputs": [
    {
     "name": "stdout",
     "output_type": "stream",
     "text": [
      "   n3  d3\n",
      "0   3   8\n",
      "1   1   9\n",
      "2   2   7\n"
     ]
    }
   ],
   "source": [
    "print(df3)"
   ]
  },
  {
   "cell_type": "code",
   "execution_count": 9,
   "id": "ed06654d",
   "metadata": {},
   "outputs": [],
   "source": [
    "def mean(x):\n",
    "    s=0\n",
    "    for i in x:\n",
    "        s=s+i\n",
    "    m=s/len(x)\n",
    "    return m"
   ]
  },
  {
   "cell_type": "code",
   "execution_count": 21,
   "id": "64724ca0",
   "metadata": {},
   "outputs": [],
   "source": [
    "y1n=mean(df1['n1'])\n",
    "y1d=mean(df1['d1'])\n",
    "y2n=mean(df2['n2'])\n",
    "y2d=mean(df2['d2'])\n",
    "y3n=mean(df3['n3'])\n",
    "y3d=mean(df3['d3'])"
   ]
  },
  {
   "cell_type": "code",
   "execution_count": 71,
   "id": "8f00c034",
   "metadata": {},
   "outputs": [
    {
     "data": {
      "text/plain": [
       "array([8., 4.])"
      ]
     },
     "execution_count": 71,
     "metadata": {},
     "output_type": "execute_result"
    }
   ],
   "source": [
    "y1=np.array([y1n,y1d])\n",
    "y2=np.array([y2n,y2d])\n",
    "y3=np.array([y3n,y3d])"
   ]
  },
  {
   "cell_type": "code",
   "execution_count": 45,
   "id": "8bd86269",
   "metadata": {},
   "outputs": [],
   "source": [
    "n1=list(df1['n1'])\n",
    "n2=list(df2['n2'])\n",
    "n3=list(df3['n3'])\n",
    "tot_num=n1+n2+n3\n",
    "d1=list(df1['d1'])\n",
    "d2=list(df2['d2'])\n",
    "d3=list(df3['d3'])\n",
    "tot_den=d1+d2+d3"
   ]
  },
  {
   "cell_type": "code",
   "execution_count": 46,
   "id": "ce97d310",
   "metadata": {},
   "outputs": [
    {
     "name": "stdout",
     "output_type": "stream",
     "text": [
      "4.0\n",
      "5.0\n"
     ]
    }
   ],
   "source": [
    "over_num_mean=mean(tot_num)\n",
    "print(over_num_mean)\n",
    "over_den_mean=mean(tot_den)\n",
    "print(over_den_mean)"
   ]
  },
  {
   "cell_type": "code",
   "execution_count": 49,
   "id": "251a0cbe",
   "metadata": {},
   "outputs": [],
   "source": [
    "overall_mean=np.array([over_num_mean,over_den_mean])\n"
   ]
  },
  {
   "cell_type": "code",
   "execution_count": 52,
   "id": "675bda38",
   "metadata": {},
   "outputs": [],
   "source": [
    "def diff_num(x,y):\n",
    "    l=[]\n",
    "    for i in x:\n",
    "        d=i-y[0]\n",
    "        l.append(d**2)\n",
    "    return l"
   ]
  },
  {
   "cell_type": "code",
   "execution_count": 55,
   "id": "1ec54773",
   "metadata": {},
   "outputs": [],
   "source": [
    "p=diff_num(n1,y1)\n",
    "q=diff_num(n2,y2)\n",
    "r=diff_num(n3,y3)"
   ]
  },
  {
   "cell_type": "code",
   "execution_count": 56,
   "id": "29b4742f",
   "metadata": {},
   "outputs": [
    {
     "name": "stdout",
     "output_type": "stream",
     "text": [
      "10.0\n"
     ]
    }
   ],
   "source": [
    "def sum(x):\n",
    "    s=0\n",
    "    for i in x:\n",
    "        s=s+i\n",
    "    return s\n",
    "sse1=sum(p)+sum(q)+sum(r)\n",
    "print(sse1)"
   ]
  },
  {
   "cell_type": "code",
   "execution_count": 58,
   "id": "f36065c6",
   "metadata": {},
   "outputs": [
    {
     "data": {
      "text/plain": [
       "88.0"
      ]
     },
     "execution_count": 58,
     "metadata": {},
     "output_type": "execute_result"
    }
   ],
   "source": [
    "s=diff_num(tot_num,overall_mean)\n",
    "sst1=sum(s)\n",
    "sst1"
   ]
  },
  {
   "cell_type": "code",
   "execution_count": 59,
   "id": "e004288f",
   "metadata": {},
   "outputs": [
    {
     "name": "stdout",
     "output_type": "stream",
     "text": [
      "78.0\n"
     ]
    }
   ],
   "source": [
    "ssr1=sst1-sse1\n",
    "print(ssr1)"
   ]
  },
  {
   "cell_type": "code",
   "execution_count": 63,
   "id": "fb218c66",
   "metadata": {},
   "outputs": [],
   "source": [
    "def diff_den(x,y):\n",
    "    l=[]\n",
    "    for i in x:\n",
    "        d=i-y[1]\n",
    "        l.append(d**2)\n",
    "    return l"
   ]
  },
  {
   "cell_type": "code",
   "execution_count": 64,
   "id": "3d161bff",
   "metadata": {},
   "outputs": [],
   "source": [
    "p=diff_den(d1,y1)\n",
    "q=diff_den(d2,y2)\n",
    "r=diff_den(d3,y3)"
   ]
  },
  {
   "cell_type": "code",
   "execution_count": 65,
   "id": "ee9dbd52",
   "metadata": {},
   "outputs": [
    {
     "data": {
      "text/plain": [
       "24.0"
      ]
     },
     "execution_count": 65,
     "metadata": {},
     "output_type": "execute_result"
    }
   ],
   "source": [
    "sse2=sum(p)+sum(q)+sum(r)\n",
    "sse2"
   ]
  },
  {
   "cell_type": "code",
   "execution_count": 66,
   "id": "d292c13d",
   "metadata": {},
   "outputs": [
    {
     "data": {
      "text/plain": [
       "72.0"
      ]
     },
     "execution_count": 66,
     "metadata": {},
     "output_type": "execute_result"
    }
   ],
   "source": [
    "s=diff_den(tot_den,overall_mean)\n",
    "sst2=sum(s)\n",
    "sst2"
   ]
  },
  {
   "cell_type": "code",
   "execution_count": 67,
   "id": "399111b7",
   "metadata": {},
   "outputs": [
    {
     "data": {
      "text/plain": [
       "48.0"
      ]
     },
     "execution_count": 67,
     "metadata": {},
     "output_type": "execute_result"
    }
   ],
   "source": [
    "ssr2=sst2-sse2\n",
    "ssr2"
   ]
  },
  {
   "cell_type": "code",
   "execution_count": null,
   "id": "2557b5c1",
   "metadata": {},
   "outputs": [],
   "source": [
    "df1['n1d1']=df1['n1']*df1['d1']\n",
    "df2['n2d2']=df2['n2']*df2['d2']\n",
    "df3['n3d3']=df3['n3']*df3['d3']\n",
    "print(df1,df2,df3)"
   ]
  },
  {
   "cell_type": "code",
   "execution_count": 73,
   "id": "4a8ea78d",
   "metadata": {},
   "outputs": [],
   "source": [
    "n1d1=df1['n1d1']\n",
    "n2d2=df2['n2d2']\n",
    "n3d3=df3['n3d3']"
   ]
  },
  {
   "cell_type": "code",
   "execution_count": 79,
   "id": "22f10a83",
   "metadata": {},
   "outputs": [],
   "source": [
    "def diff_mul(x,y):\n",
    "    l=[]\n",
    "    for i in x:\n",
    "        mul=i-(y[0]*y[1])\n",
    "        l.append(mul)\n",
    "    return l"
   ]
  },
  {
   "cell_type": "code",
   "execution_count": 80,
   "id": "deebb189",
   "metadata": {},
   "outputs": [
    {
     "data": {
      "text/plain": [
       "1.0"
      ]
     },
     "execution_count": 80,
     "metadata": {},
     "output_type": "execute_result"
    }
   ],
   "source": [
    "p=diff_mul(n1d1,y1)\n",
    "q=diff_mul(n2d2,y2)\n",
    "r=diff_mul(n3d3,y3)\n",
    "sse=sum(p)+sum(q)+sum(r)\n",
    "sse"
   ]
  },
  {
   "cell_type": "code",
   "execution_count": 81,
   "id": "4bac85ff",
   "metadata": {},
   "outputs": [
    {
     "data": {
      "text/plain": [
       "-11.0"
      ]
     },
     "execution_count": 81,
     "metadata": {},
     "output_type": "execute_result"
    }
   ],
   "source": [
    "p=diff_mul(n1d1,overall_mean)\n",
    "q=diff_mul(n2d2,overall_mean)\n",
    "r=diff_mul(n3d3,overall_mean)\n",
    "sst=sum(p)+sum(q)+sum(r)\n",
    "sst"
   ]
  },
  {
   "cell_type": "code",
   "execution_count": 82,
   "id": "63a3455e",
   "metadata": {},
   "outputs": [
    {
     "data": {
      "text/plain": [
       "-12.0"
      ]
     },
     "execution_count": 82,
     "metadata": {},
     "output_type": "execute_result"
    }
   ],
   "source": [
    "ssr=sst-sse\n",
    "ssr"
   ]
  },
  {
   "cell_type": "code",
   "execution_count": 88,
   "id": "c0762802",
   "metadata": {},
   "outputs": [],
   "source": [
    "b=np.array([[ssr1,ssr],[ssr,ssr2]])\n",
    "w=np.array([[sse1,sse],[sse,sse2]])\n",
    "t=np.array([[sst1,sst],[sst,sst2]])"
   ]
  },
  {
   "cell_type": "code",
   "execution_count": 89,
   "id": "2f6e8570",
   "metadata": {},
   "outputs": [],
   "source": [
    "def det(x):\n",
    "    d=0\n",
    "    d=(x[0][0]*x[1][1])-(x[0][1]*x[1][0])\n",
    "    return d"
   ]
  },
  {
   "cell_type": "code",
   "execution_count": 90,
   "id": "b94afe17",
   "metadata": {},
   "outputs": [
    {
     "name": "stdout",
     "output_type": "stream",
     "text": [
      "0.03845534995977474\n"
     ]
    }
   ],
   "source": [
    "wilks=det(w)/det(t)\n",
    "print(wilks)"
   ]
  },
  {
   "cell_type": "code",
   "execution_count": 93,
   "id": "4f140d58",
   "metadata": {},
   "outputs": [
    {
     "name": "stdout",
     "output_type": "stream",
     "text": [
      "2 5\n"
     ]
    }
   ],
   "source": [
    "k=3\n",
    "df_reg=k-1\n",
    "n=len(n1)+len(n2)+len(n3)\n",
    "df_err=n-k\n",
    "print(df_reg,df_err)"
   ]
  },
  {
   "cell_type": "code",
   "execution_count": 94,
   "id": "55779bb6",
   "metadata": {},
   "outputs": [
    {
     "name": "stdout",
     "output_type": "stream",
     "text": [
      "8.198859563778374\n"
     ]
    }
   ],
   "source": [
    "fcal=((n-k-1)/(k-1))*((1-(wilks**0.5))/(wilks**0.5))\n",
    "print(fcal)"
   ]
  },
  {
   "cell_type": "code",
   "execution_count": 95,
   "id": "59f22e1b",
   "metadata": {},
   "outputs": [
    {
     "name": "stdout",
     "output_type": "stream",
     "text": [
      "3.837853354555897\n"
     ]
    }
   ],
   "source": [
    "import scipy.stats as s\n",
    "ftab=s.f.ppf(.95,2*(k-1),2*(n-k-1))\n",
    "print(ftab)"
   ]
  },
  {
   "cell_type": "code",
   "execution_count": 96,
   "id": "616f2f98",
   "metadata": {},
   "outputs": [
    {
     "name": "stdout",
     "output_type": "stream",
     "text": [
      "reject null\n"
     ]
    }
   ],
   "source": [
    "if(fcal>=ftab):\n",
    "    print(\"reject null\")\n",
    "else:\n",
    "    print(\"accept null\")"
   ]
  },
  {
   "cell_type": "code",
   "execution_count": null,
   "id": "3d2f9c6f",
   "metadata": {},
   "outputs": [],
   "source": []
  }
 ],
 "metadata": {
  "kernelspec": {
   "display_name": "Python 3 (ipykernel)",
   "language": "python",
   "name": "python3"
  },
  "language_info": {
   "codemirror_mode": {
    "name": "ipython",
    "version": 3
   },
   "file_extension": ".py",
   "mimetype": "text/x-python",
   "name": "python",
   "nbconvert_exporter": "python",
   "pygments_lexer": "ipython3",
   "version": "3.9.7"
  }
 },
 "nbformat": 4,
 "nbformat_minor": 5
}
