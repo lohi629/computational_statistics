{
 "cells": [
  {
   "cell_type": "code",
   "execution_count": 1,
   "id": "72352fb2",
   "metadata": {},
   "outputs": [
    {
     "data": {
      "text/html": [
       "<div>\n",
       "<style scoped>\n",
       "    .dataframe tbody tr th:only-of-type {\n",
       "        vertical-align: middle;\n",
       "    }\n",
       "\n",
       "    .dataframe tbody tr th {\n",
       "        vertical-align: top;\n",
       "    }\n",
       "\n",
       "    .dataframe thead th {\n",
       "        text-align: right;\n",
       "    }\n",
       "</style>\n",
       "<table border=\"1\" class=\"dataframe\">\n",
       "  <thead>\n",
       "    <tr style=\"text-align: right;\">\n",
       "      <th></th>\n",
       "      <th>y1</th>\n",
       "      <th>y2</th>\n",
       "      <th>x1</th>\n",
       "      <th>x2</th>\n",
       "      <th>x3</th>\n",
       "      <th>x4</th>\n",
       "    </tr>\n",
       "  </thead>\n",
       "  <tbody>\n",
       "    <tr>\n",
       "      <th>0</th>\n",
       "      <td>10</td>\n",
       "      <td>100</td>\n",
       "      <td>1</td>\n",
       "      <td>9</td>\n",
       "      <td>62</td>\n",
       "      <td>1.0</td>\n",
       "    </tr>\n",
       "    <tr>\n",
       "      <th>1</th>\n",
       "      <td>12</td>\n",
       "      <td>110</td>\n",
       "      <td>1</td>\n",
       "      <td>8</td>\n",
       "      <td>58</td>\n",
       "      <td>1.3</td>\n",
       "    </tr>\n",
       "    <tr>\n",
       "      <th>2</th>\n",
       "      <td>11</td>\n",
       "      <td>105</td>\n",
       "      <td>1</td>\n",
       "      <td>7</td>\n",
       "      <td>64</td>\n",
       "      <td>1.2</td>\n",
       "    </tr>\n",
       "    <tr>\n",
       "      <th>3</th>\n",
       "      <td>9</td>\n",
       "      <td>94</td>\n",
       "      <td>1</td>\n",
       "      <td>14</td>\n",
       "      <td>60</td>\n",
       "      <td>0.8</td>\n",
       "    </tr>\n",
       "    <tr>\n",
       "      <th>4</th>\n",
       "      <td>9</td>\n",
       "      <td>95</td>\n",
       "      <td>1</td>\n",
       "      <td>12</td>\n",
       "      <td>63</td>\n",
       "      <td>0.8</td>\n",
       "    </tr>\n",
       "    <tr>\n",
       "      <th>5</th>\n",
       "      <td>10</td>\n",
       "      <td>99</td>\n",
       "      <td>1</td>\n",
       "      <td>10</td>\n",
       "      <td>57</td>\n",
       "      <td>0.9</td>\n",
       "    </tr>\n",
       "    <tr>\n",
       "      <th>6</th>\n",
       "      <td>11</td>\n",
       "      <td>104</td>\n",
       "      <td>1</td>\n",
       "      <td>7</td>\n",
       "      <td>55</td>\n",
       "      <td>1.0</td>\n",
       "    </tr>\n",
       "    <tr>\n",
       "      <th>7</th>\n",
       "      <td>12</td>\n",
       "      <td>108</td>\n",
       "      <td>1</td>\n",
       "      <td>4</td>\n",
       "      <td>56</td>\n",
       "      <td>1.2</td>\n",
       "    </tr>\n",
       "    <tr>\n",
       "      <th>8</th>\n",
       "      <td>11</td>\n",
       "      <td>105</td>\n",
       "      <td>1</td>\n",
       "      <td>6</td>\n",
       "      <td>59</td>\n",
       "      <td>1.1</td>\n",
       "    </tr>\n",
       "    <tr>\n",
       "      <th>9</th>\n",
       "      <td>10</td>\n",
       "      <td>98</td>\n",
       "      <td>1</td>\n",
       "      <td>5</td>\n",
       "      <td>61</td>\n",
       "      <td>1.0</td>\n",
       "    </tr>\n",
       "    <tr>\n",
       "      <th>10</th>\n",
       "      <td>11</td>\n",
       "      <td>103</td>\n",
       "      <td>1</td>\n",
       "      <td>7</td>\n",
       "      <td>57</td>\n",
       "      <td>1.2</td>\n",
       "    </tr>\n",
       "    <tr>\n",
       "      <th>11</th>\n",
       "      <td>12</td>\n",
       "      <td>110</td>\n",
       "      <td>1</td>\n",
       "      <td>6</td>\n",
       "      <td>60</td>\n",
       "      <td>1.2</td>\n",
       "    </tr>\n",
       "  </tbody>\n",
       "</table>\n",
       "</div>"
      ],
      "text/plain": [
       "    y1   y2  x1  x2  x3   x4\n",
       "0   10  100   1   9  62  1.0\n",
       "1   12  110   1   8  58  1.3\n",
       "2   11  105   1   7  64  1.2\n",
       "3    9   94   1  14  60  0.8\n",
       "4    9   95   1  12  63  0.8\n",
       "5   10   99   1  10  57  0.9\n",
       "6   11  104   1   7  55  1.0\n",
       "7   12  108   1   4  56  1.2\n",
       "8   11  105   1   6  59  1.1\n",
       "9   10   98   1   5  61  1.0\n",
       "10  11  103   1   7  57  1.2\n",
       "11  12  110   1   6  60  1.2"
      ]
     },
     "execution_count": 1,
     "metadata": {},
     "output_type": "execute_result"
    }
   ],
   "source": [
    "import pandas as pd\n",
    "import numpy as np\n",
    "df=pd.read_excel(\"C:\\\\Users\\\\y20cs95\\\\Desktop\\\\Book4.xlsx\")\n",
    "df"
   ]
  },
  {
   "cell_type": "code",
   "execution_count": 2,
   "id": "bb224d44",
   "metadata": {},
   "outputs": [],
   "source": [
    "y1=df['y1']\n",
    "y2=df['y2']\n",
    "x1=df['x1']\n",
    "x2=df['x2']\n",
    "x3=df['x3']\n",
    "x4=df['x4']"
   ]
  },
  {
   "cell_type": "code",
   "execution_count": 8,
   "id": "70c31713",
   "metadata": {},
   "outputs": [],
   "source": [
    "ytrans=np.array([y1,y2])\n",
    "xtrans=np.array([x1,x2,x3,x4])"
   ]
  },
  {
   "cell_type": "code",
   "execution_count": 7,
   "id": "3e37804b",
   "metadata": {},
   "outputs": [],
   "source": [
    "def transpose(m):\n",
    "    res=[[0 for i in range(len(m))]for j in range(len(m[0]))]\n",
    "    for i in range(len(m[0])):\n",
    "        for j in range(len(m)):\n",
    "            res[i][j]=m[j][i]\n",
    "    return res"
   ]
  },
  {
   "cell_type": "code",
   "execution_count": 11,
   "id": "226ba44a",
   "metadata": {},
   "outputs": [],
   "source": [
    "y=transpose(ytrans)\n",
    "x=transpose(xtrans)"
   ]
  },
  {
   "cell_type": "code",
   "execution_count": 12,
   "id": "6f4de5b6",
   "metadata": {},
   "outputs": [],
   "source": [
    "def display(m):\n",
    "    for i in range(len(m)):\n",
    "        for j in range(len(m[0])):\n",
    "            print(m[i][j],end=\" \")\n",
    "        print()"
   ]
  },
  {
   "cell_type": "code",
   "execution_count": 13,
   "id": "b280ffd2",
   "metadata": {},
   "outputs": [],
   "source": [
    "def inverse(m):\n",
    "    s=np.linalg.inv(m) \n",
    "    return s"
   ]
  },
  {
   "cell_type": "code",
   "execution_count": 14,
   "id": "b4ef2f85",
   "metadata": {},
   "outputs": [],
   "source": [
    "def mul(m,n):\n",
    "    c=[[0 for i in range(len(n[0]))]for j in range(len(m))]\n",
    "    for i in range(len(m)):\n",
    "        for j in range(len(n[0])):\n",
    "            for k in range(len(n)):\n",
    "                c[i][j]=c[i][j]+(m[i][k]*n[k][j])\n",
    "    return c"
   ]
  },
  {
   "cell_type": "code",
   "execution_count": 16,
   "id": "3aa8a3d9",
   "metadata": {},
   "outputs": [
    {
     "name": "stdout",
     "output_type": "stream",
     "text": [
      "10.89699524065577 91.09719893468173 \n",
      "-0.04494028839278741 -0.06400723277215548 \n",
      "-0.08770358705354109 -0.29437367196236397 \n",
      "5.035459723744907 27.83530349088869 \n"
     ]
    }
   ],
   "source": [
    "xtx=mul(xtrans,x)\n",
    "xtx_inv=inverse(xtx)\n",
    "xty=mul(xtrans,y)\n",
    "betacap=mul(xtx_inv,xty)\n",
    "display(betacap)"
   ]
  },
  {
   "cell_type": "code",
   "execution_count": 30,
   "id": "f46ed9d7",
   "metadata": {},
   "outputs": [
    {
     "name": "stdout",
     "output_type": "stream",
     "text": [
      "[10.89699524065577, -0.04494028839278741, -0.08770358705354109, 5.035459723744907]\n"
     ]
    }
   ],
   "source": [
    "b=[]\n",
    "i=0\n",
    "while(i<4):\n",
    "    b.append(betacap[i][0])\n",
    "    i=i+1\n",
    "print(b)"
   ]
  },
  {
   "cell_type": "code",
   "execution_count": 32,
   "id": "5aca2f63",
   "metadata": {},
   "outputs": [
    {
     "name": "stdout",
     "output_type": "stream",
     "text": [
      "[91.09719893468173, -0.06400723277215548, -0.29437367196236397, 27.83530349088869]\n"
     ]
    }
   ],
   "source": [
    "a=[]\n",
    "i=0\n",
    "while(i<4):\n",
    "    a.append(betacap[i][1])\n",
    "    i=i+1\n",
    "print(a)"
   ]
  },
  {
   "cell_type": "code",
   "execution_count": 35,
   "id": "5ad8bcd7",
   "metadata": {},
   "outputs": [
    {
     "name": "stdout",
     "output_type": "stream",
     "text": [
      "equation is: y1= 10.89699524065577 + -0.04494028839278741 x1 + -0.08770358705354109 x2 + 5.035459723744907 x3\n",
      "equation is: y2= 91.09719893468173 + -0.06400723277215548 x1 + -0.29437367196236397 x2 + 27.83530349088869 x3\n"
     ]
    }
   ],
   "source": [
    "print(\"equation is:\",\"y1=\",b[0],\"+\",b[1],\"x1 +\",b[2],\"x2 +\",b[3],\"x3\")\n",
    "print(\"equation is:\",\"y2=\",a[0],\"+\",a[1],\"x1 +\",a[2],\"x2 +\",a[3],\"x3\")"
   ]
  },
  {
   "cell_type": "code",
   "execution_count": null,
   "id": "fbbbc09d",
   "metadata": {},
   "outputs": [],
   "source": []
  }
 ],
 "metadata": {
  "kernelspec": {
   "display_name": "Python 3 (ipykernel)",
   "language": "python",
   "name": "python3"
  },
  "language_info": {
   "codemirror_mode": {
    "name": "ipython",
    "version": 3
   },
   "file_extension": ".py",
   "mimetype": "text/x-python",
   "name": "python",
   "nbconvert_exporter": "python",
   "pygments_lexer": "ipython3",
   "version": "3.9.7"
  }
 },
 "nbformat": 4,
 "nbformat_minor": 5
}
