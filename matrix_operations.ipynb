{
  "nbformat": 4,
  "nbformat_minor": 0,
  "metadata": {
    "colab": {
      "name": "matrix_operations.ipynb",
      "provenance": [],
      "collapsed_sections": [],
      "authorship_tag": "ABX9TyM2ZNuEvXWxyWBuwW6mfnMI",
      "include_colab_link": true
    },
    "kernelspec": {
      "name": "python3",
      "display_name": "Python 3"
    },
    "language_info": {
      "name": "python"
    }
  },
  "cells": [
    {
      "cell_type": "markdown",
      "metadata": {
        "id": "view-in-github",
        "colab_type": "text"
      },
      "source": [
        "<a href=\"https://colab.research.google.com/github/lohi629/computational_statistics/blob/main/matrix_operations.ipynb\" target=\"_parent\"><img src=\"https://colab.research.google.com/assets/colab-badge.svg\" alt=\"Open In Colab\"/></a>"
      ]
    },
    {
      "cell_type": "code",
      "execution_count": null,
      "metadata": {
        "colab": {
          "base_uri": "https://localhost:8080/"
        },
        "id": "03YJYLGW--DN",
        "outputId": "0690d574-96e7-401c-8515-e5ed535d0983"
      },
      "outputs": [
        {
          "output_type": "stream",
          "name": "stdout",
          "text": [
            "enter no.of rows:3\n",
            "enter no.of columns:3\n",
            "1\n",
            "3\n",
            "3\n",
            "1\n",
            "4\n",
            "3\n",
            "1\n",
            "3\n",
            "4\n",
            "1 3 3 \n",
            "1 4 3 \n",
            "1 3 4 \n"
          ]
        }
      ],
      "source": [
        "R=int(input(\"enter no.of rows:\"))\n",
        "C=int(input(\"enter no.of columns:\"))\n",
        "m=[[int(input()) for i in range(C)]for j in range(R)]\n",
        "def display(k):\n",
        "  for i in range(R):\n",
        "    for j in range(C):\n",
        "      print(k[i][j],end=\" \")\n",
        "    print(\"\")\n",
        "display(m)\n"
      ]
    },
    {
      "cell_type": "code",
      "source": [
        "transpose=[[0 for i in range(C)]for j in range(R)]\n",
        "for i in range(len(m)):\n",
        "  for j in range(len(m[0])):\n",
        "    transpose[i][j]=m[j][i]\n",
        "for i in range(C):\n",
        "  for j in range(R):\n",
        "    print(transpose[i][j],end=\" \")\n",
        "  print()\n",
        "\n",
        "\n"
      ],
      "metadata": {
        "colab": {
          "base_uri": "https://localhost:8080/"
        },
        "id": "3gxncn96AdjB",
        "outputId": "a3eeae5b-450c-4145-f536-a41c0c51e052"
      },
      "execution_count": null,
      "outputs": [
        {
          "output_type": "stream",
          "name": "stdout",
          "text": [
            "1 1 1 \n",
            "3 4 3 \n",
            "3 3 4 \n"
          ]
        }
      ]
    },
    {
      "cell_type": "code",
      "source": [
        "n=[[int(input()) for i in range(C)]for j in range(R)]\n",
        "display(n)"
      ],
      "metadata": {
        "colab": {
          "base_uri": "https://localhost:8080/"
        },
        "id": "qtdTBm0hDNsU",
        "outputId": "81b16a0f-b17a-4838-e071-7896ff394a9a"
      },
      "execution_count": null,
      "outputs": [
        {
          "output_type": "stream",
          "name": "stdout",
          "text": [
            "2\n",
            "1\n",
            "4\n",
            "3\n",
            "1\n",
            "2\n",
            "4\n",
            "7\n",
            "8\n",
            "2 1 4 \n",
            "3 1 2 \n",
            "4 7 8 \n"
          ]
        }
      ]
    },
    {
      "cell_type": "code",
      "source": [
        "result=[[0 for i in range(C)]for j in range(R)]\n",
        "for i in range(len(m)):\n",
        "  for j in range(len(n[0])):\n",
        "    for k in range(len(n)):\n",
        "      result[i][j]=result[i][j]+(m[i][k]*n[k][j])\n",
        "display(result)\n"
      ],
      "metadata": {
        "colab": {
          "base_uri": "https://localhost:8080/"
        },
        "id": "mzIq6HoyDN7F",
        "outputId": "0db3463f-a446-4306-cf3b-80d2bca1a520"
      },
      "execution_count": null,
      "outputs": [
        {
          "output_type": "stream",
          "name": "stdout",
          "text": [
            "23 25 34 \n",
            "26 26 36 \n",
            "27 32 42 \n"
          ]
        }
      ]
    },
    {
      "cell_type": "code",
      "source": [
        "import numpy as np\n",
        "A = np.array([[int(input()) for i in range(C)]for j in range(R)])\n",
        "  \n",
        "# Calculating the inverse of the matrix\n",
        "print(np.linalg.inv(A))"
      ],
      "metadata": {
        "colab": {
          "base_uri": "https://localhost:8080/"
        },
        "id": "bhhsm2VbGRTk",
        "outputId": "2c53d0ff-447c-4f1d-f6a2-7602f40af209"
      },
      "execution_count": null,
      "outputs": [
        {
          "output_type": "stream",
          "name": "stdout",
          "text": [
            "1\n",
            "3\n",
            "3\n",
            "1\n",
            "4\n",
            "3\n",
            "1\n",
            "3\n",
            "4\n",
            "[[ 7. -3. -3.]\n",
            " [-1.  1.  0.]\n",
            " [-1.  0.  1.]]\n"
          ]
        }
      ]
    }
  ]
}