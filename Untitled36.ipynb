{
 "cells": [
  {
   "cell_type": "code",
   "execution_count": 1,
   "id": "f3e63237",
   "metadata": {},
   "outputs": [
    {
     "data": {
      "text/html": [
       "<div>\n",
       "<style scoped>\n",
       "    .dataframe tbody tr th:only-of-type {\n",
       "        vertical-align: middle;\n",
       "    }\n",
       "\n",
       "    .dataframe tbody tr th {\n",
       "        vertical-align: top;\n",
       "    }\n",
       "\n",
       "    .dataframe thead th {\n",
       "        text-align: right;\n",
       "    }\n",
       "</style>\n",
       "<table border=\"1\" class=\"dataframe\">\n",
       "  <thead>\n",
       "    <tr style=\"text-align: right;\">\n",
       "      <th></th>\n",
       "      <th>x1</th>\n",
       "      <th>x2</th>\n",
       "      <th>x3</th>\n",
       "    </tr>\n",
       "  </thead>\n",
       "  <tbody>\n",
       "    <tr>\n",
       "      <th>0</th>\n",
       "      <td>90</td>\n",
       "      <td>60</td>\n",
       "      <td>90</td>\n",
       "    </tr>\n",
       "    <tr>\n",
       "      <th>1</th>\n",
       "      <td>90</td>\n",
       "      <td>90</td>\n",
       "      <td>30</td>\n",
       "    </tr>\n",
       "    <tr>\n",
       "      <th>2</th>\n",
       "      <td>60</td>\n",
       "      <td>60</td>\n",
       "      <td>60</td>\n",
       "    </tr>\n",
       "    <tr>\n",
       "      <th>3</th>\n",
       "      <td>60</td>\n",
       "      <td>60</td>\n",
       "      <td>90</td>\n",
       "    </tr>\n",
       "    <tr>\n",
       "      <th>4</th>\n",
       "      <td>30</td>\n",
       "      <td>30</td>\n",
       "      <td>30</td>\n",
       "    </tr>\n",
       "  </tbody>\n",
       "</table>\n",
       "</div>"
      ],
      "text/plain": [
       "   x1  x2  x3\n",
       "0  90  60  90\n",
       "1  90  90  30\n",
       "2  60  60  60\n",
       "3  60  60  90\n",
       "4  30  30  30"
      ]
     },
     "execution_count": 1,
     "metadata": {},
     "output_type": "execute_result"
    }
   ],
   "source": [
    "import pandas as pd\n",
    "import numpy as np\n",
    "df=pd.read_excel(\"C:\\\\Users\\\\exam2\\\\Desktop\\\\Book2.xlsx\")\n",
    "df"
   ]
  },
  {
   "cell_type": "code",
   "execution_count": 18,
   "id": "3a666c53",
   "metadata": {},
   "outputs": [],
   "source": [
    "x1=df['x1']\n",
    "x2=df['x2']\n",
    "x3=df['x3']\n",
    "def transpose(m):\n",
    "    res=[[0 for i in range(len(m))]for j in range(len(m[0]))]\n",
    "    for i in range(len(m[0])):\n",
    "        for j in range(len(m)):\n",
    "            res[i][j]=m[j][i]\n",
    "    return res\n",
    "def mean(x):\n",
    "    s=0\n",
    "    for i in x:\n",
    "        s=s+i\n",
    "    l=s/len(x)\n",
    "    return l\n",
    "def display(m):\n",
    "    for i in range(len(m)):\n",
    "        for j in range(len(m[0])):\n",
    "            print(m[i][j],end=\" \")\n",
    "        print()\n",
    "def mul(m,n):\n",
    "    c=[[0 for i in range(len(n[0]))]for j in range(len(m))]\n",
    "    for i in range(len(m)):\n",
    "        for j in range(len(n[0])):\n",
    "            for k in range(len(n)):\n",
    "                c[i][j]=c[i][j]+(m[i][k]*n[k][j])\n",
    "    return c\n",
    "def inverse(m):\n",
    "    s=np.linalg.inv(m) \n",
    "    return s"
   ]
  },
  {
   "cell_type": "code",
   "execution_count": 19,
   "id": "dd6462b1",
   "metadata": {},
   "outputs": [
    {
     "name": "stdout",
     "output_type": "stream",
     "text": [
      "[[66. 60. 60.]]\n"
     ]
    }
   ],
   "source": [
    "xtrans=np.array([x1,x2,x3])\n",
    "x=transpose(xtrans)\n",
    "u1=mean(x1)\n",
    "u2=mean(x2)\n",
    "u3=mean(x3)\n",
    "u=np.array([u1,u2,u3])\n",
    "u=np.array([u])\n",
    "print(u)"
   ]
  },
  {
   "cell_type": "code",
   "execution_count": 23,
   "id": "5b25f169",
   "metadata": {},
   "outputs": [],
   "source": [
    "a=[]\n",
    "for i in x:\n",
    "    l=[(i[0]-u[0][0]),(i[1]-u[0][1]),(i[2]-u[0][2])]\n",
    "    a.append(l)\n",
    "atrans=transpose(a)\n",
    "c=mul(atrans,a)\n",
    "for i in range(len(c)):\n",
    "    for j in range(len(c[0])):\n",
    "        c[i][j]=c[i][j]/len(x)\n",
    "def trace(m):\n",
    "    s=0\n",
    "    for i in range(len(m)):\n",
    "        for j in range(len(m[0])):\n",
    "            if(i==j):\n",
    "                s=s+m[i][j]\n",
    "    return s\n",
    "def getcofactor(m, i, j):\n",
    "    return [row[: j] + row[j+1:] for row in (m[: i] + m[i+1:])]\n",
    "def det(mat):\n",
    "\tif(len(mat) == 2):\n",
    "\t\tvalue = mat[0][0] * mat[1][1] - mat[1][0] * mat[0][1]\n",
    "\t\treturn value\n",
    "\tSum = 0\n",
    "\tfor current_column in range(len(mat)):\n",
    "\t\tsign = (-1) ** (current_column)\n",
    "\t\tsub_det = determinantOfMatrix(getcofactor(mat, 0, current_column))\n",
    "\t\tSum += (sign * mat[0][current_column] * sub_det)\n",
    "\treturn Sum\n"
   ]
  },
  {
   "cell_type": "code",
   "execution_count": 28,
   "id": "019c341b",
   "metadata": {},
   "outputs": [],
   "source": [
    "first=1\n",
    "second=-trace(c)\n",
    "third=trace(inverse(c)*det(c))\n",
    "fourth=-det(c)"
   ]
  },
  {
   "cell_type": "code",
   "execution_count": 29,
   "id": "458c2066",
   "metadata": {},
   "outputs": [
    {
     "name": "stdout",
     "output_type": "stream",
     "text": [
      "[1, -1584.0, 641519.9999999995, -25660800.0]\n"
     ]
    }
   ],
   "source": [
    "coeff=list([first,second,third,fourth])\n",
    "print(coeff)"
   ]
  },
  {
   "cell_type": "code",
   "execution_count": 30,
   "id": "004b8c8f",
   "metadata": {},
   "outputs": [
    {
     "name": "stdout",
     "output_type": "stream",
     "text": [
      "[910.06995304 629.11038668  44.81966028]\n"
     ]
    }
   ],
   "source": [
    "def eigen(x):\n",
    "    p=np.roots(x)\n",
    "    return p\n",
    "eig=eigen(coeff)\n",
    "print(eig)"
   ]
  },
  {
   "cell_type": "code",
   "execution_count": 33,
   "id": "6c41fd97",
   "metadata": {},
   "outputs": [
    {
     "name": "stdout",
     "output_type": "stream",
     "text": [
      "44.81966028263878 910.0699530410361 629.1103866763253 \n",
      "[ 0.6487899  -0.65580225 -0.3859988 ] [-0.74104991 -0.4291978  -0.51636642] [-0.17296443 -0.62105769  0.7644414 ] \n"
     ]
    }
   ],
   "source": [
    "eigen_vectors=np. linalg. eig(c)\n",
    "display(eigen_vectors)"
   ]
  },
  {
   "cell_type": "code",
   "execution_count": null,
   "id": "427759af",
   "metadata": {},
   "outputs": [],
   "source": []
  }
 ],
 "metadata": {
  "kernelspec": {
   "display_name": "Python 3 (ipykernel)",
   "language": "python",
   "name": "python3"
  },
  "language_info": {
   "codemirror_mode": {
    "name": "ipython",
    "version": 3
   },
   "file_extension": ".py",
   "mimetype": "text/x-python",
   "name": "python",
   "nbconvert_exporter": "python",
   "pygments_lexer": "ipython3",
   "version": "3.9.7"
  }
 },
 "nbformat": 4,
 "nbformat_minor": 5
}
