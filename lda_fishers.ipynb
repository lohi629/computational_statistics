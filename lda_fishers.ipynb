{
 "cells": [
  {
   "cell_type": "code",
   "execution_count": 6,
   "id": "7d9f2895",
   "metadata": {},
   "outputs": [],
   "source": [
    "import pandas as pd\n",
    "import numpy as np\n",
    "df=pd.read_excel(\"C:\\\\Users\\\\exam2\\\\Desktop\\\\Book1.xlsx\")"
   ]
  },
  {
   "cell_type": "code",
   "execution_count": 7,
   "id": "acc4d869",
   "metadata": {},
   "outputs": [],
   "source": [
    "x1=df['curvature']\n",
    "x2=df['diameter']\n",
    "y=df['result']"
   ]
  },
  {
   "cell_type": "code",
   "execution_count": 9,
   "id": "272fbca7",
   "metadata": {},
   "outputs": [],
   "source": [
    "def transpose(m):\n",
    "    res=[[0 for i in range(len(m))]for j in range(len(m[0]))]\n",
    "    for i in range(len(m[0])):\n",
    "        for j in range(len(m)):\n",
    "            res[i][j]=m[j][i]\n",
    "    return res"
   ]
  },
  {
   "cell_type": "code",
   "execution_count": 13,
   "id": "8d161667",
   "metadata": {},
   "outputs": [],
   "source": [
    "xtrans=np.array([x1,x2])\n",
    "x=transpose(xtrans)\n",
    "\n"
   ]
  },
  {
   "cell_type": "code",
   "execution_count": 11,
   "id": "21fbc20d",
   "metadata": {},
   "outputs": [],
   "source": [
    "def display(m):\n",
    "    for i in range(len(m)):\n",
    "        for j in range(len(m[0])):\n",
    "            print(m[i][j],end=\" \")\n",
    "        print()"
   ]
  },
  {
   "cell_type": "code",
   "execution_count": 12,
   "id": "61cea1ef",
   "metadata": {},
   "outputs": [
    {
     "name": "stdout",
     "output_type": "stream",
     "text": [
      "2.95 6.63 \n",
      "2.53 7.79 \n",
      "3.57 5.65 \n",
      "3.16 5.47 \n",
      "2.58 4.46 \n",
      "2.16 6.22 \n",
      "3.27 3.52 \n"
     ]
    }
   ],
   "source": [
    "display(x)"
   ]
  },
  {
   "cell_type": "code",
   "execution_count": 24,
   "id": "0edb1b36",
   "metadata": {},
   "outputs": [
    {
     "name": "stdout",
     "output_type": "stream",
     "text": [
      "[2.88857143 5.67714286]\n"
     ]
    }
   ],
   "source": [
    "def mean(x):\n",
    "    s=0\n",
    "    for i in x:\n",
    "        s=s+i\n",
    "    l=s/len(x)\n",
    "    return l\n",
    "u1=mean(x1)\n",
    "u2=mean(x2)\n",
    "u=np.array([u1,u2])\n",
    "print(u)"
   ]
  },
  {
   "cell_type": "code",
   "execution_count": 83,
   "id": "07640635",
   "metadata": {},
   "outputs": [],
   "source": [
    "p1=[]\n",
    "p2=[]\n",
    "n1=[]\n",
    "n2=[]\n",
    "for i in range(len(y)):\n",
    "    if(y[i]=='passed'):\n",
    "        p1.append(x1[i])\n",
    "        p2.append(x2[i])\n",
    "    if(y[i]=='notpassed'):\n",
    "        n1.append(x1[i])\n",
    "        n2.append(x2[i])\n",
    "ptrans=np.array([p1,p2])\n",
    "p=transpose(ptrans)\n",
    "ntrans=np.array([n1,n2])\n",
    "n=transpose(ntrans)\n",
    "u_p1=mean(p1)\n",
    "u_p2=mean(p2)\n",
    "u_n1=mean(n1)\n",
    "u_n2=mean(n2)\n",
    "u_pass=np.array([u_p1,u_p2])\n",
    "u_pass1=np.array([u_pass])\n",
    "u_pass_trans=transpose(u_pass1)\n",
    "u_no=np.array([u_n1,u_n2])\n",
    "u_no1=np.array([u_no])\n",
    "u_no_trans=transpose(u_no1)\n",
    "        "
   ]
  },
  {
   "cell_type": "code",
   "execution_count": 39,
   "id": "3dcf8c7e",
   "metadata": {},
   "outputs": [],
   "source": [
    "def mul(m,n):\n",
    "    c=[[0 for i in range(len(n[0]))]for j in range(len(m))]\n",
    "    for i in range(len(m)):\n",
    "        for j in range(len(n[0])):\n",
    "            for k in range(len(n)):\n",
    "                c[i][j]=c[i][j]+(m[i][k]*n[k][j])\n",
    "    return c\n",
    "def inverse(m):\n",
    "    s=np.linalg.inv(m) \n",
    "    return s"
   ]
  },
  {
   "cell_type": "code",
   "execution_count": 43,
   "id": "4227dc0c",
   "metadata": {},
   "outputs": [
    {
     "name": "stdout",
     "output_type": "stream",
     "text": [
      "5.731714487577605 0.7822176856949424 \n",
      "0.7822176856949431 0.6977102207778747 \n"
     ]
    }
   ],
   "source": [
    "a=[]\n",
    "for i in x:\n",
    "    l=[(i[0]-u[0]),(i[1]-u[1])]\n",
    "    a.append(l)\n",
    "atrans=transpose(a)\n",
    "c=mul(atrans,a)\n",
    "for i in range(len(c)):\n",
    "    for j in range(len(c[0])):\n",
    "        c[i][j]=c[i][j]/len(x)\n",
    "c_inv=inverse(c)\n",
    "display(c_inv)"
   ]
  },
  {
   "cell_type": "code",
   "execution_count": 53,
   "id": "4297679b",
   "metadata": {},
   "outputs": [
    {
     "name": "stdout",
     "output_type": "stream",
     "text": [
      "2.81 5.46\n"
     ]
    }
   ],
   "source": [
    "xk=list(map(float,input().split()))\n",
    "xk=np.array([xk])\n",
    "xk_trans=transpose(xk)\n"
   ]
  },
  {
   "cell_type": "code",
   "execution_count": 79,
   "id": "c3d179f3",
   "metadata": {},
   "outputs": [],
   "source": [
    "import math\n",
    "def fisher(u,ut,c,xk,x,x1):\n",
    "    p=mul(u,c)\n",
    "    q=mul(p,xk)\n",
    "    r=mul(u,c)\n",
    "    s=mul(r,ut)\n",
    "    for i in range(len(s)):\n",
    "        for j in range(len(s[0])):\n",
    "            s[i][j]=s[i][j]*0.5\n",
    "            q[i][j]=q[i][j]-s[i][j]\n",
    "    f=q[0][0]+math.log(len(x1)/len(x))\n",
    "    return f"
   ]
  },
  {
   "cell_type": "code",
   "execution_count": 84,
   "id": "ef9ad34d",
   "metadata": {},
   "outputs": [],
   "source": [
    "f1=fisher(u_pass1,u_pass_trans,c_inv,xk_trans,x,p)\n",
    "f2=fisher(u_no1,u_no_trans,c_inv,xk_trans,x,n)"
   ]
  },
  {
   "cell_type": "code",
   "execution_count": 85,
   "id": "2f924c07",
   "metadata": {},
   "outputs": [
    {
     "name": "stdout",
     "output_type": "stream",
     "text": [
      "43.82818099216788 43.86302017821442\n"
     ]
    }
   ],
   "source": [
    "print(f1,f2)"
   ]
  },
  {
   "cell_type": "code",
   "execution_count": 86,
   "id": "72e506c8",
   "metadata": {},
   "outputs": [
    {
     "name": "stdout",
     "output_type": "stream",
     "text": [
      "new observation is passed into a not passed group\n"
     ]
    }
   ],
   "source": [
    "if(f1>f2):\n",
    "    print(\"new observation is passed into a passed group\")\n",
    "if(f2>f1):\n",
    "    print(\"new observation is passed into a not passed group\")"
   ]
  },
  {
   "cell_type": "code",
   "execution_count": null,
   "id": "b23f0f80",
   "metadata": {},
   "outputs": [],
   "source": []
  }
 ],
 "metadata": {
  "kernelspec": {
   "display_name": "Python 3 (ipykernel)",
   "language": "python",
   "name": "python3"
  },
  "language_info": {
   "codemirror_mode": {
    "name": "ipython",
    "version": 3
   },
   "file_extension": ".py",
   "mimetype": "text/x-python",
   "name": "python",
   "nbconvert_exporter": "python",
   "pygments_lexer": "ipython3",
   "version": "3.9.7"
  }
 },
 "nbformat": 4,
 "nbformat_minor": 5
}
