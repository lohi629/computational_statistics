{
  "nbformat": 4,
  "nbformat_minor": 0,
  "metadata": {
    "colab": {
      "name": "Anova_one_way.ipynb",
      "provenance": [],
      "collapsed_sections": [],
      "authorship_tag": "ABX9TyPUdeAoZVWbkqSWqHRKpbHo",
      "include_colab_link": true
    },
    "kernelspec": {
      "name": "python3",
      "display_name": "Python 3"
    },
    "language_info": {
      "name": "python"
    }
  },
  "cells": [
    {
      "cell_type": "markdown",
      "metadata": {
        "id": "view-in-github",
        "colab_type": "text"
      },
      "source": [
        "<a href=\"https://colab.research.google.com/github/lohi629/computational_statistics/blob/main/Anova_one_way.ipynb\" target=\"_parent\"><img src=\"https://colab.research.google.com/assets/colab-badge.svg\" alt=\"Open In Colab\"/></a>"
      ]
    },
    {
      "cell_type": "code",
      "source": [
        "k=int(input(\"enter no.of treatments:\"))\n",
        "print(k)"
      ],
      "metadata": {
        "colab": {
          "base_uri": "https://localhost:8080/"
        },
        "id": "9TtjN8QCEGeL",
        "outputId": "5a75e284-7d3d-4b6e-e19c-f6f90fc594c9"
      },
      "execution_count": 9,
      "outputs": [
        {
          "output_type": "stream",
          "name": "stdout",
          "text": [
            "enter no.of treatments:3\n",
            "3\n"
          ]
        }
      ]
    },
    {
      "cell_type": "code",
      "source": [
        "import pandas as pd\n",
        "x=[13,10,8,11,8]\n",
        "y=[13,11,14,14]\n",
        "z=[4,1,3,4,2,4]\n",
        "print(x,y,z)\n",
        "combined_data=[]\n",
        "combined_data.extend(x)\n",
        "combined_data.extend(y)\n",
        "combined_data.extend(z)\n",
        "\n",
        "print(combined_data)"
      ],
      "metadata": {
        "colab": {
          "base_uri": "https://localhost:8080/"
        },
        "id": "Gjh686Vm0CbB",
        "outputId": "29d62fcc-5343-4ce5-f475-c00b81d52d03"
      },
      "execution_count": 6,
      "outputs": [
        {
          "output_type": "stream",
          "name": "stdout",
          "text": [
            "[13, 10, 8, 11, 8] [13, 11, 14, 14] [4, 1, 3, 4, 2, 4]\n",
            "[13, 10, 8, 11, 8, 13, 11, 14, 14, 4, 1, 3, 4, 2, 4]\n"
          ]
        }
      ]
    },
    {
      "cell_type": "code",
      "source": [
        "def sum(x):\n",
        "  s=0\n",
        "  for i in x:\n",
        "    s=s+i\n",
        "  return s\n",
        "fx=sum(x)\n",
        "fy=sum(y)\n",
        "fz=sum(z)\n",
        "print(fx,fy,fz)\n",
        "fxx=(fx**2)/len(x)\n",
        "fyy=(fy**2)/len(y)\n",
        "fzz=(fz**2)/len(z)\n",
        "print(fxx,fyy,fzz)\n",
        "sig=fxx+fyy+fzz\n",
        "G=fx+fy+fz\n",
        "print(\"grand total:\",G)\n",
        "print(\"sig:\",sig)"
      ],
      "metadata": {
        "colab": {
          "base_uri": "https://localhost:8080/"
        },
        "id": "16VHhbPL0ChB",
        "outputId": "6e9549a2-6861-4047-d5b0-6db39c213018"
      },
      "execution_count": 3,
      "outputs": [
        {
          "output_type": "stream",
          "name": "stdout",
          "text": [
            "50 52 18\n",
            "500.0 676.0 54.0\n",
            "grand total: 120\n",
            "sig: 1230.0\n"
          ]
        }
      ]
    },
    {
      "cell_type": "code",
      "source": [
        "s=0\n",
        "for i in combined_data:\n",
        "  s=s+(i**2)\n",
        "rss=s\n",
        "print(\"rss:\",rss)\n",
        "cf=(G**2)/len(combined_data)\n",
        "print(\"cf:\",cf)\n",
        "sst=rss-cf\n",
        "print(\"sst:\",sst)\n",
        "sstr=sig-cf\n",
        "print(\"sum due to treatments:\",sstr)\n",
        "sse=sst-sstr\n",
        "print(\"sum due to error:\",sse)"
      ],
      "metadata": {
        "colab": {
          "base_uri": "https://localhost:8080/"
        },
        "id": "9NOYUvn3B3BZ",
        "outputId": "25e506c7-0b73-4525-86e2-9bc3142c7c38"
      },
      "execution_count": 8,
      "outputs": [
        {
          "output_type": "stream",
          "name": "stdout",
          "text": [
            "rss: 1262\n",
            "cf: 960.0\n",
            "sst: 302.0\n",
            "sum due to treatments: 270.0\n",
            "sum due to error: 32.0\n"
          ]
        }
      ]
    },
    {
      "cell_type": "code",
      "source": [
        "df_treat=k-1\n",
        "df_error=len(combined_data)-k\n",
        "print(df_treat,df_error)"
      ],
      "metadata": {
        "colab": {
          "base_uri": "https://localhost:8080/"
        },
        "id": "SBtGrAVgB2s6",
        "outputId": "cda5b48e-5249-4b1f-cbbf-7a96ab5421a3"
      },
      "execution_count": 10,
      "outputs": [
        {
          "output_type": "stream",
          "name": "stdout",
          "text": [
            "2 12\n"
          ]
        }
      ]
    },
    {
      "cell_type": "code",
      "source": [
        "msstr=sstr/df_treat\n",
        "print(\"msstr:\",msstr)\n",
        "msse=sse/df_error\n",
        "print(\"msse:\",msse)"
      ],
      "metadata": {
        "colab": {
          "base_uri": "https://localhost:8080/"
        },
        "id": "SryBYcgrElGq",
        "outputId": "d831bfd0-c9d0-4fb6-9028-1401f0fcb9db"
      },
      "execution_count": 11,
      "outputs": [
        {
          "output_type": "stream",
          "name": "stdout",
          "text": [
            "msstr: 135.0\n",
            "msse: 2.6666666666666665\n"
          ]
        }
      ]
    },
    {
      "cell_type": "code",
      "source": [
        "F_cal=msstr/msse\n",
        "\n",
        "print(\"caluclated value:\",F_cal)"
      ],
      "metadata": {
        "colab": {
          "base_uri": "https://localhost:8080/"
        },
        "id": "sYcxSYzbE8k7",
        "outputId": "1326b6d5-5637-4683-f2a2-41726c48af15"
      },
      "execution_count": 13,
      "outputs": [
        {
          "output_type": "stream",
          "name": "stdout",
          "text": [
            "caluclated value: 50.625\n"
          ]
        }
      ]
    },
    {
      "cell_type": "code",
      "source": [
        "import scipy.stats as s\n",
        "F_tab=s.f.ppf(.95,df_treat,df_error)\n",
        "print(\"table value:\",F_tab)"
      ],
      "metadata": {
        "colab": {
          "base_uri": "https://localhost:8080/"
        },
        "id": "21OuHTZE3X2c",
        "outputId": "f88fe0de-f6b0-4fe7-9c6a-f7083737d2f5"
      },
      "execution_count": 14,
      "outputs": [
        {
          "output_type": "stream",
          "name": "stdout",
          "text": [
            "table value: 3.8852938346523933\n"
          ]
        }
      ]
    },
    {
      "cell_type": "code",
      "source": [
        "if(F_cal>=F_tab):\n",
        "  print(\"reject null hypothesis\")\n",
        "else:\n",
        "  print(\"accept null hypothesis\")"
      ],
      "metadata": {
        "colab": {
          "base_uri": "https://localhost:8080/"
        },
        "id": "o14lgsDyFaic",
        "outputId": "1e39bd63-46ef-4a92-9e03-aba8c25a158b"
      },
      "execution_count": 15,
      "outputs": [
        {
          "output_type": "stream",
          "name": "stdout",
          "text": [
            "reject null hypothesis\n"
          ]
        }
      ]
    }
  ]
}