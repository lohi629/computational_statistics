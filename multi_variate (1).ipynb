{
 "cells": [
  {
   "cell_type": "code",
   "execution_count": 2,
   "id": "3cad1436",
   "metadata": {},
   "outputs": [
    {
     "data": {
      "text/html": [
       "<div>\n",
       "<style scoped>\n",
       "    .dataframe tbody tr th:only-of-type {\n",
       "        vertical-align: middle;\n",
       "    }\n",
       "\n",
       "    .dataframe tbody tr th {\n",
       "        vertical-align: top;\n",
       "    }\n",
       "\n",
       "    .dataframe thead th {\n",
       "        text-align: right;\n",
       "    }\n",
       "</style>\n",
       "<table border=\"1\" class=\"dataframe\">\n",
       "  <thead>\n",
       "    <tr style=\"text-align: right;\">\n",
       "      <th></th>\n",
       "      <th>y1</th>\n",
       "      <th>y2</th>\n",
       "      <th>x1</th>\n",
       "      <th>x2</th>\n",
       "      <th>x3</th>\n",
       "      <th>x4</th>\n",
       "    </tr>\n",
       "  </thead>\n",
       "  <tbody>\n",
       "    <tr>\n",
       "      <th>0</th>\n",
       "      <td>10</td>\n",
       "      <td>100</td>\n",
       "      <td>1</td>\n",
       "      <td>9</td>\n",
       "      <td>62</td>\n",
       "      <td>1.0</td>\n",
       "    </tr>\n",
       "    <tr>\n",
       "      <th>1</th>\n",
       "      <td>12</td>\n",
       "      <td>110</td>\n",
       "      <td>1</td>\n",
       "      <td>8</td>\n",
       "      <td>58</td>\n",
       "      <td>1.3</td>\n",
       "    </tr>\n",
       "    <tr>\n",
       "      <th>2</th>\n",
       "      <td>11</td>\n",
       "      <td>105</td>\n",
       "      <td>1</td>\n",
       "      <td>7</td>\n",
       "      <td>64</td>\n",
       "      <td>1.2</td>\n",
       "    </tr>\n",
       "    <tr>\n",
       "      <th>3</th>\n",
       "      <td>9</td>\n",
       "      <td>94</td>\n",
       "      <td>1</td>\n",
       "      <td>14</td>\n",
       "      <td>60</td>\n",
       "      <td>0.8</td>\n",
       "    </tr>\n",
       "    <tr>\n",
       "      <th>4</th>\n",
       "      <td>9</td>\n",
       "      <td>95</td>\n",
       "      <td>1</td>\n",
       "      <td>12</td>\n",
       "      <td>63</td>\n",
       "      <td>0.8</td>\n",
       "    </tr>\n",
       "    <tr>\n",
       "      <th>5</th>\n",
       "      <td>10</td>\n",
       "      <td>99</td>\n",
       "      <td>1</td>\n",
       "      <td>10</td>\n",
       "      <td>57</td>\n",
       "      <td>0.9</td>\n",
       "    </tr>\n",
       "    <tr>\n",
       "      <th>6</th>\n",
       "      <td>11</td>\n",
       "      <td>104</td>\n",
       "      <td>1</td>\n",
       "      <td>7</td>\n",
       "      <td>55</td>\n",
       "      <td>1.0</td>\n",
       "    </tr>\n",
       "    <tr>\n",
       "      <th>7</th>\n",
       "      <td>12</td>\n",
       "      <td>108</td>\n",
       "      <td>1</td>\n",
       "      <td>4</td>\n",
       "      <td>56</td>\n",
       "      <td>1.2</td>\n",
       "    </tr>\n",
       "    <tr>\n",
       "      <th>8</th>\n",
       "      <td>11</td>\n",
       "      <td>105</td>\n",
       "      <td>1</td>\n",
       "      <td>6</td>\n",
       "      <td>59</td>\n",
       "      <td>1.1</td>\n",
       "    </tr>\n",
       "    <tr>\n",
       "      <th>9</th>\n",
       "      <td>10</td>\n",
       "      <td>98</td>\n",
       "      <td>1</td>\n",
       "      <td>5</td>\n",
       "      <td>61</td>\n",
       "      <td>1.0</td>\n",
       "    </tr>\n",
       "    <tr>\n",
       "      <th>10</th>\n",
       "      <td>11</td>\n",
       "      <td>103</td>\n",
       "      <td>1</td>\n",
       "      <td>7</td>\n",
       "      <td>57</td>\n",
       "      <td>1.2</td>\n",
       "    </tr>\n",
       "    <tr>\n",
       "      <th>11</th>\n",
       "      <td>12</td>\n",
       "      <td>110</td>\n",
       "      <td>1</td>\n",
       "      <td>6</td>\n",
       "      <td>60</td>\n",
       "      <td>1.2</td>\n",
       "    </tr>\n",
       "  </tbody>\n",
       "</table>\n",
       "</div>"
      ],
      "text/plain": [
       "    y1   y2  x1  x2  x3   x4\n",
       "0   10  100   1   9  62  1.0\n",
       "1   12  110   1   8  58  1.3\n",
       "2   11  105   1   7  64  1.2\n",
       "3    9   94   1  14  60  0.8\n",
       "4    9   95   1  12  63  0.8\n",
       "5   10   99   1  10  57  0.9\n",
       "6   11  104   1   7  55  1.0\n",
       "7   12  108   1   4  56  1.2\n",
       "8   11  105   1   6  59  1.1\n",
       "9   10   98   1   5  61  1.0\n",
       "10  11  103   1   7  57  1.2\n",
       "11  12  110   1   6  60  1.2"
      ]
     },
     "execution_count": 2,
     "metadata": {},
     "output_type": "execute_result"
    }
   ],
   "source": [
    "import pandas as pd\n",
    "import numpy as np\n",
    "df=pd.read_excel(\"C:\\\\Users\\\\y20cs95\\\\Desktop\\\\Book1.xlsx\")\n",
    "df"
   ]
  },
  {
   "cell_type": "code",
   "execution_count": 29,
   "id": "05779819",
   "metadata": {},
   "outputs": [],
   "source": [
    "y1=df['y1']\n",
    "y2=df['y2']\n",
    "x1=df['x1']\n",
    "x2=df['x2']\n",
    "x3=df['x3']\n",
    "x4=df['x4']"
   ]
  },
  {
   "cell_type": "code",
   "execution_count": 4,
   "id": "7b8a9263",
   "metadata": {},
   "outputs": [],
   "source": [
    "ytrans=np.array([y1,y2])\n",
    "xtrans=np.array([x1,x2,x3,x4])"
   ]
  },
  {
   "cell_type": "code",
   "execution_count": 18,
   "id": "4eb3c1de",
   "metadata": {},
   "outputs": [],
   "source": [
    "def transpose(m):\n",
    "    res=[[0 for i in range(len(m))]for j in range(len(m[0]))]\n",
    "    for i in range(len(m[0])):\n",
    "        for j in range(len(m)):\n",
    "            res[i][j]=m[j][i]\n",
    "    return res"
   ]
  },
  {
   "cell_type": "code",
   "execution_count": 19,
   "id": "3e347519",
   "metadata": {},
   "outputs": [],
   "source": [
    "y=transpose(ytrans)\n",
    "x=transpose(xtrans)"
   ]
  },
  {
   "cell_type": "code",
   "execution_count": 20,
   "id": "5f388c9a",
   "metadata": {},
   "outputs": [],
   "source": [
    "def display(m):\n",
    "    for i in range(len(m)):\n",
    "        for j in range(len(m[0])):\n",
    "            print(m[i][j],end=\" \")\n",
    "        print()"
   ]
  },
  {
   "cell_type": "code",
   "execution_count": 21,
   "id": "9c240c62",
   "metadata": {},
   "outputs": [],
   "source": [
    "def inverse(m):\n",
    "    s=np.linalg.inv(m) \n",
    "    return s"
   ]
  },
  {
   "cell_type": "code",
   "execution_count": 22,
   "id": "0a6cdc2e",
   "metadata": {},
   "outputs": [],
   "source": [
    "def mul(m,n):\n",
    "    c=[[0 for i in range(len(n[0]))]for j in range(len(m))]\n",
    "    for i in range(len(m)):\n",
    "        for j in range(len(n[0])):\n",
    "            for k in range(len(n)):\n",
    "                c[i][j]=c[i][j]+(m[i][k]*n[k][j])\n",
    "    return c"
   ]
  },
  {
   "cell_type": "code",
   "execution_count": 59,
   "id": "e686b0f0",
   "metadata": {},
   "outputs": [
    {
     "name": "stdout",
     "output_type": "stream",
     "text": [
      "54.81224047099969 -0.3054430189665313 -0.7050233376722634 -9.901825387994043 \n",
      "-0.3054430189665173 0.024395045053105305 -0.0034304316399554266 0.29844521851980066 \n",
      "-0.7050233376722694 -0.0034304316399552124 0.012315008391291906 0.0014082742726882773 \n",
      "-9.90182538799381 0.2984452185198019 0.0014082742726841927 7.044639182235702 \n"
     ]
    }
   ],
   "source": [
    "xtx=mul(xtrans,x)\n",
    "xtx_inv=inverse(xtx)\n",
    "xty=mul(xtrans,y)\n",
    "betacap=mul(xtx_inv,xty)\n",
    "#display(betacap)\n",
    "display(xtx_inv)"
   ]
  },
  {
   "cell_type": "code",
   "execution_count": 24,
   "id": "aed4bd36",
   "metadata": {},
   "outputs": [
    {
     "name": "stdout",
     "output_type": "stream",
     "text": [
      "[10.89699524065577, -0.04494028839278741, -0.08770358705354109, 5.035459723744907]\n"
     ]
    }
   ],
   "source": [
    "b=[]\n",
    "i=0\n",
    "while(i<4):\n",
    "    b.append(betacap[i][0])\n",
    "    i=i+1\n",
    "print(b)"
   ]
  },
  {
   "cell_type": "code",
   "execution_count": 25,
   "id": "80a67cd1",
   "metadata": {},
   "outputs": [
    {
     "name": "stdout",
     "output_type": "stream",
     "text": [
      "[91.09719893468173, -0.06400723277215548, -0.29437367196236397, 27.83530349088869]\n"
     ]
    }
   ],
   "source": [
    "a=[]\n",
    "i=0\n",
    "while(i<4):\n",
    "    a.append(betacap[i][1])\n",
    "    i=i+1\n",
    "print(a)"
   ]
  },
  {
   "cell_type": "code",
   "execution_count": 26,
   "id": "8a53e3b0",
   "metadata": {},
   "outputs": [
    {
     "name": "stdout",
     "output_type": "stream",
     "text": [
      "equation is: y1= 10.89699524065577 + -0.04494028839278741 x1 + -0.08770358705354109 x2 + 5.035459723744907 x3\n",
      "equation is: y2= 91.09719893468173 + -0.06400723277215548 x1 + -0.29437367196236397 x2 + 27.83530349088869 x3\n"
     ]
    }
   ],
   "source": [
    "print(\"equation is:\",\"y1=\",b[0],\"+\",b[1],\"x1 +\",b[2],\"x2 +\",b[3],\"x3\")\n",
    "print(\"equation is:\",\"y2=\",a[0],\"+\",a[1],\"x1 +\",a[2],\"x2 +\",a[3],\"x3\")"
   ]
  },
  {
   "cell_type": "code",
   "execution_count": 30,
   "id": "9bdd319b",
   "metadata": {},
   "outputs": [
    {
     "name": "stdout",
     "output_type": "stream",
     "text": [
      "0     10.090370\n",
      "1     11.996763\n",
      "2     11.011935\n",
      "3      9.033984\n",
      "4      8.860754\n",
      "5      9.980402\n",
      "6     10.794176\n",
      "7     11.848385\n",
      "8     10.991848\n",
      "9     10.357835\n",
      "10    11.625860\n",
      "11    11.407690\n",
      "dtype: float64\n"
     ]
    }
   ],
   "source": [
    "y1exp=y1\n",
    "y1cal=betacap[0][0]+(betacap[1][0]*x2)+(betacap[2][0]*x3)+(betacap[3][0]*x4)\n",
    "print(y1cal)"
   ]
  },
  {
   "cell_type": "code",
   "execution_count": 31,
   "id": "62cfd377",
   "metadata": {},
   "outputs": [
    {
     "name": "stdout",
     "output_type": "stream",
     "text": [
      "0     100.105270\n",
      "1     109.697363\n",
      "2     105.211597\n",
      "3      94.806920\n",
      "4      94.051814\n",
      "5      98.729600\n",
      "6     102.293900\n",
      "7     107.758609\n",
      "8     103.963943\n",
      "9     100.655672\n",
      "10    107.272213\n",
      "11    106.453099\n",
      "dtype: float64\n"
     ]
    }
   ],
   "source": [
    "y2exp=y2\n",
    "y2cal=betacap[0][1]+(betacap[1][1]*x2)+(betacap[2][1]*x3)+(betacap[3][1]*x4)\n",
    "print(y2cal)"
   ]
  },
  {
   "cell_type": "code",
   "execution_count": 32,
   "id": "88725840",
   "metadata": {},
   "outputs": [
    {
     "name": "stdout",
     "output_type": "stream",
     "text": [
      "0    -0.090370\n",
      "1     0.003237\n",
      "2    -0.011935\n",
      "3    -0.033984\n",
      "4     0.139246\n",
      "5     0.019598\n",
      "6     0.205824\n",
      "7     0.151615\n",
      "8     0.008152\n",
      "9    -0.357835\n",
      "10   -0.625860\n",
      "11    0.592310\n",
      "dtype: float64 0    -0.105270\n",
      "1     0.302637\n",
      "2    -0.211597\n",
      "3    -0.806920\n",
      "4     0.948186\n",
      "5     0.270400\n",
      "6     1.706100\n",
      "7     0.241391\n",
      "8     1.036057\n",
      "9    -2.655672\n",
      "10   -4.272213\n",
      "11    3.546901\n",
      "dtype: float64\n"
     ]
    }
   ],
   "source": [
    "y1err=y1-y1cal\n",
    "y2err=y2-y2cal\n",
    "print(y1err,y2err)"
   ]
  },
  {
   "cell_type": "code",
   "execution_count": 42,
   "id": "796a8f22",
   "metadata": {},
   "outputs": [],
   "source": [
    "def sum(x):\n",
    "    s=0\n",
    "    for i in x:\n",
    "        s=s+i\n",
    "    return s"
   ]
  },
  {
   "cell_type": "code",
   "execution_count": 35,
   "id": "51308113",
   "metadata": {},
   "outputs": [
    {
     "name": "stdout",
     "output_type": "stream",
     "text": [
      "sse_y1: 0.9652436353394355\n",
      "sse_y2: 43.6981048985381\n"
     ]
    }
   ],
   "source": [
    "error1sq=y1err*y1err\n",
    "sum1_error=sum(error1sq)\n",
    "print(\"sse_y1:\",sum1_error)\n",
    "error2sq=y2err*y2err\n",
    "sum2_error=sum(error2sq)\n",
    "print(\"sse_y2:\",sum2_error)\n"
   ]
  },
  {
   "cell_type": "code",
   "execution_count": 37,
   "id": "a93787ba",
   "metadata": {},
   "outputs": [
    {
     "name": "stdout",
     "output_type": "stream",
     "text": [
      "10.666666666666666\n",
      "102.58333333333333\n"
     ]
    }
   ],
   "source": [
    "y1sum=sum(y1)\n",
    "y1mean=y1sum/len(y1)\n",
    "print(y1mean)\n",
    "y2sum=sum(y2)\n",
    "y2mean=y2sum/len(y2)\n",
    "print(y2mean)"
   ]
  },
  {
   "cell_type": "code",
   "execution_count": 39,
   "id": "46cc1268",
   "metadata": {},
   "outputs": [
    {
     "name": "stdout",
     "output_type": "stream",
     "text": [
      "sst_y1: 12.666666666666664\n",
      "sst_y2: 324.9166666666667\n"
     ]
    }
   ],
   "source": [
    "y1diff=y1-y1mean\n",
    "y1dif=y1diff**2\n",
    "sst1=sum(y1dif)\n",
    "print(\"sst_y1:\",sst1)\n",
    "y2diff=y2-y2mean\n",
    "y2dif=y2diff**2\n",
    "sst2=sum(y2dif)\n",
    "print(\"sst_y2:\",sst2)"
   ]
  },
  {
   "cell_type": "code",
   "execution_count": 41,
   "id": "5ded8767",
   "metadata": {},
   "outputs": [
    {
     "name": "stdout",
     "output_type": "stream",
     "text": [
      "ssr_y1: 11.701423031327229\n",
      "ssr_y2: 281.2185617681286\n"
     ]
    }
   ],
   "source": [
    "ssr1=sst1-sum1_error\n",
    "print(\"ssr_y1:\",ssr1)\n",
    "ssr2=sst2-sum2_error\n",
    "print(\"ssr_y2:\",ssr2)"
   ]
  },
  {
   "cell_type": "code",
   "execution_count": 45,
   "id": "8da251dd",
   "metadata": {},
   "outputs": [
    {
     "name": "stdout",
     "output_type": "stream",
     "text": [
      "0.9237965551047814\n",
      "0.865509807955256\n"
     ]
    }
   ],
   "source": [
    "coff_of_det_y1=ssr1/sst1\n",
    "print(coff_of_det_y1)\n",
    "coff_of_det_y2=ssr2/sst2\n",
    "print(coff_of_det_y2)"
   ]
  },
  {
   "cell_type": "code",
   "execution_count": 47,
   "id": "e05c4bbf",
   "metadata": {},
   "outputs": [
    {
     "name": "stdout",
     "output_type": "stream",
     "text": [
      "good fit\n",
      "bad fit\n"
     ]
    }
   ],
   "source": [
    "def r(x):\n",
    "    if(x>=0.90):\n",
    "        print(\"good fit\")\n",
    "    else:\n",
    "        print(\"bad fit\")\n",
    "r(coff_of_det_y1)\n",
    "r(coff_of_det_y2)"
   ]
  },
  {
   "cell_type": "markdown",
   "id": "f489352d",
   "metadata": {},
   "source": [
    "# anova"
   ]
  },
  {
   "cell_type": "code",
   "execution_count": 50,
   "id": "aaceb952",
   "metadata": {},
   "outputs": [
    {
     "name": "stdout",
     "output_type": "stream",
     "text": [
      "Fcal_y1: 32.32737684847089\n",
      "Fcal_y2: 17.161297187972508\n"
     ]
    }
   ],
   "source": [
    "df_regression=len(betacap)-1\n",
    "df_error=len(df)-len(betacap)\n",
    "mean_ssr1=ssr1/df_regression\n",
    "mean_sse1=sum1_error/df_error\n",
    "Fcal1=mean_ssr1/mean_sse1\n",
    "print(\"Fcal_y1:\",Fcal1)\n",
    "mean_ssr2=ssr2/df_regression\n",
    "mean_sse2=sum2_error/df_error\n",
    "Fcal2=mean_ssr2/mean_sse2\n",
    "print(\"Fcal_y2:\",Fcal2)"
   ]
  },
  {
   "cell_type": "code",
   "execution_count": 51,
   "id": "7543b3dd",
   "metadata": {},
   "outputs": [
    {
     "name": "stdout",
     "output_type": "stream",
     "text": [
      "tablevalue: 4.06618055135116\n"
     ]
    }
   ],
   "source": [
    "import scipy.stats as s\n",
    "Ftab=s.f.ppf(.95,df_regression,df_error)\n",
    "print(\"tablevalue:\",Ftab)"
   ]
  },
  {
   "cell_type": "code",
   "execution_count": 52,
   "id": "f05b9702",
   "metadata": {},
   "outputs": [],
   "source": [
    "def anova(x):\n",
    "    if(x>=Ftab):\n",
    "        print(\"reject null and accept model\")\n",
    "    else:\n",
    "        print(\"accept null and reject model\")"
   ]
  },
  {
   "cell_type": "code",
   "execution_count": 54,
   "id": "871e5d20",
   "metadata": {},
   "outputs": [
    {
     "name": "stdout",
     "output_type": "stream",
     "text": [
      "reject null and accept model\n",
      "reject null and accept model\n"
     ]
    }
   ],
   "source": [
    "anova(Fcal1)\n",
    "anova(Fcal2)"
   ]
  },
  {
   "cell_type": "markdown",
   "id": "66106ae0",
   "metadata": {},
   "source": [
    "# test for parameters"
   ]
  },
  {
   "cell_type": "code",
   "execution_count": 56,
   "id": "20b1bc22",
   "metadata": {},
   "outputs": [
    {
     "name": "stdout",
     "output_type": "stream",
     "text": [
      "[54.81224047099969, 0.024395045053105305, 0.012315008391291906, 7.044639182235702]\n"
     ]
    }
   ],
   "source": [
    "c=[]\n",
    "for i in range(len(xtx_inv)):\n",
    "    for j in range(len(xtx_inv[0])):\n",
    "        if(i==j):\n",
    "            c.append(xtx_inv[i][j])\n",
    "print(c)"
   ]
  },
  {
   "cell_type": "code",
   "execution_count": 66,
   "id": "91897783",
   "metadata": {},
   "outputs": [],
   "source": [
    "def t(x,y):\n",
    "    se=[]\n",
    "    t=[]\n",
    "    for i in c:\n",
    "        p=(y*i)**0.5\n",
    "        se.append(p)\n",
    "    for i in range(len(se)):\n",
    "        s=x[i]/se[i]\n",
    "        t.append(abs(s))\n",
    "    return t\n",
    "    "
   ]
  },
  {
   "cell_type": "code",
   "execution_count": 67,
   "id": "b74ee91e",
   "metadata": {},
   "outputs": [],
   "source": [
    "y1_t=t(b,mean_sse1)"
   ]
  },
  {
   "cell_type": "code",
   "execution_count": 68,
   "id": "3c8ca16d",
   "metadata": {},
   "outputs": [],
   "source": [
    "y2_t=t(a,mean_sse2)"
   ]
  },
  {
   "cell_type": "code",
   "execution_count": 69,
   "id": "06034202",
   "metadata": {},
   "outputs": [
    {
     "name": "stdout",
     "output_type": "stream",
     "text": [
      "2.306004135033371\n"
     ]
    }
   ],
   "source": [
    "import scipy.stats as s\n",
    "ttab=s.t.ppf(0.05/2,df_error)\n",
    "t_tab=abs(ttab)\n",
    "print(t_tab)"
   ]
  },
  {
   "cell_type": "code",
   "execution_count": 71,
   "id": "488a0103",
   "metadata": {},
   "outputs": [
    {
     "name": "stdout",
     "output_type": "stream",
     "text": [
      "reject null and variable is contributing to model\n",
      "accept null and variable is not contributing to model\n",
      "accept null and variable is not contributing to model\n",
      "reject null and variable is contributing to model\n"
     ]
    }
   ],
   "source": [
    "def ttest(x):\n",
    "    for i in x:\n",
    "        if(i>=t_tab):\n",
    "            print(\"reject null and variable is contributing to model\")\n",
    "        else:\n",
    "            print(\"accept null and variable is not contributing to model\")\n",
    "ttest(y1_t)"
   ]
  },
  {
   "cell_type": "code",
   "execution_count": 72,
   "id": "067418ec",
   "metadata": {},
   "outputs": [
    {
     "name": "stdout",
     "output_type": "stream",
     "text": [
      "reject null and variable is contributing to model\n",
      "accept null and variable is not contributing to model\n",
      "accept null and variable is not contributing to model\n",
      "reject null and variable is contributing to model\n"
     ]
    }
   ],
   "source": [
    "ttest(y2_t)"
   ]
  },
  {
   "cell_type": "code",
   "execution_count": null,
   "id": "7848bc1f",
   "metadata": {},
   "outputs": [],
   "source": []
  }
 ],
 "metadata": {
  "kernelspec": {
   "display_name": "Python 3 (ipykernel)",
   "language": "python",
   "name": "python3"
  },
  "language_info": {
   "codemirror_mode": {
    "name": "ipython",
    "version": 3
   },
   "file_extension": ".py",
   "mimetype": "text/x-python",
   "name": "python",
   "nbconvert_exporter": "python",
   "pygments_lexer": "ipython3",
   "version": "3.9.7"
  }
 },
 "nbformat": 4,
 "nbformat_minor": 5
}
