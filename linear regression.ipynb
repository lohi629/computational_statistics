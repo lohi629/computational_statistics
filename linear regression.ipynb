{
 "cells": [
  {
   "cell_type": "code",
   "execution_count": 16,
   "id": "ce4aa112",
   "metadata": {},
   "outputs": [
    {
     "name": "stdout",
     "output_type": "stream",
     "text": [
      "   x    y\n",
      "0  1  2.4\n",
      "1  2  3.0\n",
      "2  3  3.6\n",
      "3  4  4.0\n",
      "4  6  5.0\n",
      "5  8  6.0\n"
     ]
    }
   ],
   "source": [
    "import numpy as np\n",
    "import pandas as pd\n",
    "import matplotlib.pyplot as plt\n",
    "df=pd.read_excel(\"C:\\\\Users\\\\y20cs95\\\\Desktop\\\\data2.xlsx\")\n",
    "print(df)"
   ]
  },
  {
   "cell_type": "code",
   "execution_count": 17,
   "id": "9e82e86e",
   "metadata": {},
   "outputs": [
    {
     "name": "stdout",
     "output_type": "stream",
     "text": [
      "24\n",
      "24.0\n",
      "113.2\n",
      "130\n"
     ]
    }
   ],
   "source": [
    "x=df['x']\n",
    "y=df['y']\n",
    "def sum(x):\n",
    "    s=0\n",
    "    for i in x:\n",
    "        s=s+i\n",
    "    return s\n",
    "sumx=sum(x)\n",
    "sumy=sum(y)\n",
    "sumxy=sum(x*y)\n",
    "sumxx=sum(x*x)\n",
    "print(sumx)\n",
    "print(sumy)\n",
    "print(sumxy)\n",
    "print(sumxx)\n",
    "    \n",
    "    "
   ]
  },
  {
   "cell_type": "code",
   "execution_count": 18,
   "id": "b487a237",
   "metadata": {},
   "outputs": [
    {
     "name": "stdout",
     "output_type": "stream",
     "text": [
      "1.9764705882352933\n",
      "0.5058823529411767\n"
     ]
    }
   ],
   "source": [
    "y_intercept=((sumxx*sumy)-(sumx*sumxy))/((len(x)*sumxx)-(sumx**2))\n",
    "print(y_intercept)\n",
    "slope=((len(x)*sumxy)-(sumx*sumy))/((len(x)*sumxx)-(sumx*sumx))\n",
    "print(slope)"
   ]
  },
  {
   "cell_type": "code",
   "execution_count": 19,
   "id": "bc8cb8c7",
   "metadata": {},
   "outputs": [
    {
     "name": "stdout",
     "output_type": "stream",
     "text": [
      "yexp : 0    2.482353\n",
      "1    2.988235\n",
      "2    3.494118\n",
      "3    4.000000\n",
      "4    5.011765\n",
      "5    6.023529\n",
      "Name: x, dtype: float64\n",
      "ycal : 0    2.4\n",
      "1    3.0\n",
      "2    3.6\n",
      "3    4.0\n",
      "4    5.0\n",
      "5    6.0\n",
      "Name: y, dtype: float64\n"
     ]
    }
   ],
   "source": [
    "yexp=slope*x+y_intercept\n",
    "print(\"yexp :\",yexp)\n",
    "ycal=y\n",
    "print(\"ycal :\",ycal)"
   ]
  },
  {
   "cell_type": "code",
   "execution_count": 20,
   "id": "4d40a509",
   "metadata": {},
   "outputs": [
    {
     "data": {
      "image/png": "[encoded data removed]",
      "text/plain": [
       "<Figure size 432x288 with 1 Axes>"
      ]
     },
     "metadata": {
      "needs_background": "light"
     },
     "output_type": "display_data"
    }
   ],
   "source": [
    "plt.plot(x,ycal)\n",
    "plt.scatter(x,ycal)\n",
    "plt.plot(x,yexp)\n",
    "plt.scatter(x,yexp)\n",
    "plt.show()"
   ]
  },
  {
   "cell_type": "code",
   "execution_count": null,
   "id": "c6b1a648",
   "metadata": {},
   "outputs": [],
   "source": []
  }
 ],
 "metadata": {
  "kernelspec": {
   "display_name": "Python 3 (ipykernel)",
   "language": "python",
   "name": "python3"
  },
  "language_info": {
   "codemirror_mode": {
    "name": "ipython",
    "version": 3
   },
   "file_extension": ".py",
   "mimetype": "text/x-python",
   "name": "python",
   "nbconvert_exporter": "python",
   "pygments_lexer": "ipython3",
   "version": "3.9.7"
  }
 },
 "nbformat": 4,
 "nbformat_minor": 5
}
