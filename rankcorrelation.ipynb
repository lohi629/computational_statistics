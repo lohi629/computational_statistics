{
  "nbformat": 4,
  "nbformat_minor": 0,
  "metadata": {
    "colab": {
      "name": "rankcorrelation.ipynb",
      "provenance": [],
      "collapsed_sections": [],
      "authorship_tag": "ABX9TyPdkWlcoG85BvZtdePnKOq5",
      "include_colab_link": true
    },
    "kernelspec": {
      "name": "python3",
      "display_name": "Python 3"
    },
    "language_info": {
      "name": "python"
    }
  },
  "cells": [
    {
      "cell_type": "markdown",
      "metadata": {
        "id": "view-in-github",
        "colab_type": "text"
      },
      "source": [
        "<a href=\"https://colab.research.google.com/github/lohi629/computational_statistics/blob/main/rankcorrelation.ipynb\" target=\"_parent\"><img src=\"https://colab.research.google.com/assets/colab-badge.svg\" alt=\"Open In Colab\"/></a>"
      ]
    },
    {
      "cell_type": "code",
      "execution_count": 32,
      "metadata": {
        "colab": {
          "base_uri": "https://localhost:8080/",
          "height": 363
        },
        "id": "R4NgV3oq5mSE",
        "outputId": "a7845f5f-9af6-4b0b-84e8-18311542255c"
      },
      "outputs": [
        {
          "output_type": "execute_result",
          "data": {
            "text/plain": [
              "     x   y\n",
              "0  105  75\n",
              "1  109  73\n",
              "2  112  85\n",
              "3   87  70\n",
              "4   98  76\n",
              "5  120  82\n",
              "6   98  65\n",
              "7  100  73\n",
              "8   98  68\n",
              "9  118  80"
            ],
            "text/html": [
              "\n",
              "  <div id=\"df-d5eafc84-b524-4502-a196-0efab8a979cb\">\n",
              "    <div class=\"colab-df-container\">\n",
              "      <div>\n",
              "<style scoped>\n",
              "    .dataframe tbody tr th:only-of-type {\n",
              "        vertical-align: middle;\n",
              "    }\n",
              "\n",
              "    .dataframe tbody tr th {\n",
              "        vertical-align: top;\n",
              "    }\n",
              "\n",
              "    .dataframe thead th {\n",
              "        text-align: right;\n",
              "    }\n",
              "</style>\n",
              "<table border=\"1\" class=\"dataframe\">\n",
              "  <thead>\n",
              "    <tr style=\"text-align: right;\">\n",
              "      <th></th>\n",
              "      <th>x</th>\n",
              "      <th>y</th>\n",
              "    </tr>\n",
              "  </thead>\n",
              "  <tbody>\n",
              "    <tr>\n",
              "      <th>0</th>\n",
              "      <td>105</td>\n",
              "      <td>75</td>\n",
              "    </tr>\n",
              "    <tr>\n",
              "      <th>1</th>\n",
              "      <td>109</td>\n",
              "      <td>73</td>\n",
              "    </tr>\n",
              "    <tr>\n",
              "      <th>2</th>\n",
              "      <td>112</td>\n",
              "      <td>85</td>\n",
              "    </tr>\n",
              "    <tr>\n",
              "      <th>3</th>\n",
              "      <td>87</td>\n",
              "      <td>70</td>\n",
              "    </tr>\n",
              "    <tr>\n",
              "      <th>4</th>\n",
              "      <td>98</td>\n",
              "      <td>76</td>\n",
              "    </tr>\n",
              "    <tr>\n",
              "      <th>5</th>\n",
              "      <td>120</td>\n",
              "      <td>82</td>\n",
              "    </tr>\n",
              "    <tr>\n",
              "      <th>6</th>\n",
              "      <td>98</td>\n",
              "      <td>65</td>\n",
              "    </tr>\n",
              "    <tr>\n",
              "      <th>7</th>\n",
              "      <td>100</td>\n",
              "      <td>73</td>\n",
              "    </tr>\n",
              "    <tr>\n",
              "      <th>8</th>\n",
              "      <td>98</td>\n",
              "      <td>68</td>\n",
              "    </tr>\n",
              "    <tr>\n",
              "      <th>9</th>\n",
              "      <td>118</td>\n",
              "      <td>80</td>\n",
              "    </tr>\n",
              "  </tbody>\n",
              "</table>\n",
              "</div>\n",
              "      <button class=\"colab-df-convert\" onclick=\"convertToInteractive('df-d5eafc84-b524-4502-a196-0efab8a979cb')\"\n",
              "              title=\"Convert this dataframe to an interactive table.\"\n",
              "              style=\"display:none;\">\n",
              "        \n",
              "  <svg xmlns=\"http://www.w3.org/2000/svg\" height=\"24px\"viewBox=\"0 0 24 24\"\n",
              "       width=\"24px\">\n",
              "    <path d=\"M0 0h24v24H0V0z\" fill=\"none\"/>\n",
              "    <path d=\"M18.56 5.44l.94 2.06.94-2.06 2.06-.94-2.06-.94-.94-2.06-.94 2.06-2.06.94zm-11 1L8.5 8.5l.94-2.06 2.06-.94-2.06-.94L8.5 2.5l-.94 2.06-2.06.94zm10 10l.94 2.06.94-2.06 2.06-.94-2.06-.94-.94-2.06-.94 2.06-2.06.94z\"/><path d=\"M17.41 7.96l-1.37-1.37c-.4-.4-.92-.59-1.43-.59-.52 0-1.04.2-1.43.59L10.3 9.45l-7.72 7.72c-.78.78-.78 2.05 0 2.83L4 21.41c.39.39.9.59 1.41.59.51 0 1.02-.2 1.41-.59l7.78-7.78 2.81-2.81c.8-.78.8-2.07 0-2.86zM5.41 20L4 18.59l7.72-7.72 1.47 1.35L5.41 20z\"/>\n",
              "  </svg>\n",
              "      </button>\n",
              "      \n",
              "  <style>\n",
              "    .colab-df-container {\n",
              "      display:flex;\n",
              "      flex-wrap:wrap;\n",
              "      gap: 12px;\n",
              "    }\n",
              "\n",
              "    .colab-df-convert {\n",
              "      background-color: #E8F0FE;\n",
              "      border: none;\n",
              "      border-radius: 50%;\n",
              "      cursor: pointer;\n",
              "      display: none;\n",
              "      fill: #1967D2;\n",
              "      height: 32px;\n",
              "      padding: 0 0 0 0;\n",
              "      width: 32px;\n",
              "    }\n",
              "\n",
              "    .colab-df-convert:hover {\n",
              "      background-color: #E2EBFA;\n",
              "      box-shadow: 0px 1px 2px rgba(60, 64, 67, 0.3), 0px 1px 3px 1px rgba(60, 64, 67, 0.15);\n",
              "      fill: #174EA6;\n",
              "    }\n",
              "\n",
              "    [theme=dark] .colab-df-convert {\n",
              "      background-color: #3B4455;\n",
              "      fill: #D2E3FC;\n",
              "    }\n",
              "\n",
              "    [theme=dark] .colab-df-convert:hover {\n",
              "      background-color: #434B5C;\n",
              "      box-shadow: 0px 1px 3px 1px rgba(0, 0, 0, 0.15);\n",
              "      filter: drop-shadow(0px 1px 2px rgba(0, 0, 0, 0.3));\n",
              "      fill: #FFFFFF;\n",
              "    }\n",
              "  </style>\n",
              "\n",
              "      <script>\n",
              "        const buttonEl =\n",
              "          document.querySelector('#df-d5eafc84-b524-4502-a196-0efab8a979cb button.colab-df-convert');\n",
              "        buttonEl.style.display =\n",
              "          google.colab.kernel.accessAllowed ? 'block' : 'none';\n",
              "\n",
              "        async function convertToInteractive(key) {\n",
              "          const element = document.querySelector('#df-d5eafc84-b524-4502-a196-0efab8a979cb');\n",
              "          const dataTable =\n",
              "            await google.colab.kernel.invokeFunction('convertToInteractive',\n",
              "                                                     [key], {});\n",
              "          if (!dataTable) return;\n",
              "\n",
              "          const docLinkHtml = 'Like what you see? Visit the ' +\n",
              "            '<a target=\"_blank\" href=https://colab.research.google.com/notebooks/data_table.ipynb>data table notebook</a>'\n",
              "            + ' to learn more about interactive tables.';\n",
              "          element.innerHTML = '';\n",
              "          dataTable['output_type'] = 'display_data';\n",
              "          await google.colab.output.renderOutput(dataTable, element);\n",
              "          const docLink = document.createElement('div');\n",
              "          docLink.innerHTML = docLinkHtml;\n",
              "          element.appendChild(docLink);\n",
              "        }\n",
              "      </script>\n",
              "    </div>\n",
              "  </div>\n",
              "  "
            ]
          },
          "metadata": {},
          "execution_count": 32
        }
      ],
      "source": [
        "import numpy as np\n",
        "import pandas as pd\n",
        "df=pd.read_excel(\"/content/Book3.xlsx\")\n",
        "df"
      ]
    },
    {
      "cell_type": "code",
      "source": [
        "x=df['x']\n",
        "y=df['y']\n"
      ],
      "metadata": {
        "id": "lbNiOyMUYc-4"
      },
      "execution_count": 33,
      "outputs": []
    },
    {
      "cell_type": "code",
      "source": [
        "xx=list(x)\n",
        "yy=list(y)\n",
        "xx.sort(reverse=True)\n",
        "d=dict()\n",
        "i=0\n",
        "while(i<len(xx)):\n",
        "  if(xx.count(xx[i])==1):\n",
        "    d[xx[i]]=i+1\n",
        "    i=i+1\n",
        "  else:\n",
        "    s=0\n",
        "    for j in range(xx.count(xx[i])):\n",
        "      s=s+(j+i+1)\n",
        "    avg=s/(xx.count(xx[i]))\n",
        "\n",
        "    d[xx[i]]=avg\n",
        "    i=i+xx.count(xx[i])\n",
        "    \n",
        "l=[]\n",
        "for i in x:\n",
        "  if i in d.keys():\n",
        "    l.append(d[i])\n",
        "p=pd.DataFrame(l)\n",
        "df['rankx']=p\n",
        "yy.sort(reverse=True)\n",
        "i=0\n",
        "while(i<len(yy)):\n",
        "  if(yy.count(yy[i])==1):\n",
        "    d[yy[i]]=i+1\n",
        "    i=i+1\n",
        "  else:\n",
        "    s=0\n",
        "    for j in range(yy.count(yy[i])):\n",
        "      s=s+(j+i+1)\n",
        "    avg=s/(yy.count(yy[i]))\n",
        "\n",
        "    d[yy[i]]=avg\n",
        "    i=i+yy.count(yy[i])\n",
        "\n",
        "l=[]\n",
        "for i in y:\n",
        "  if i in d.keys():\n",
        "    l.append(d[i])\n",
        "p=pd.DataFrame(l)\n",
        "df['ranky']=p\n",
        "print(df)\n",
        "print(xx)\n",
        "\n",
        "\n",
        "\n",
        "\n",
        "\n",
        "\n",
        "  "
      ],
      "metadata": {
        "colab": {
          "base_uri": "https://localhost:8080/"
        },
        "id": "o6NwP1BNYkWe",
        "outputId": "e9bf490f-b449-484c-cbd4-3bff78008141"
      },
      "execution_count": 44,
      "outputs": [
        {
          "output_type": "stream",
          "name": "stdout",
          "text": [
            "     x   y  rankx  ranky\n",
            "0  105  75    5.0    5.0\n",
            "1  109  73    4.0    6.5\n",
            "2  112  85    3.0    1.0\n",
            "3   87  70   10.0    8.0\n",
            "4   98  76    8.0    4.0\n",
            "5  120  82    1.0    2.0\n",
            "6   98  65    8.0   10.0\n",
            "7  100  73    6.0    6.5\n",
            "8   98  68    8.0    9.0\n",
            "9  118  80    2.0    3.0\n",
            "[120, 118, 112, 109, 105, 100, 98, 98, 98, 87]\n"
          ]
        }
      ]
    },
    {
      "cell_type": "code",
      "source": [
        "df['fin']=df['rankx']-df['ranky']\n",
        "print(df)"
      ],
      "metadata": {
        "colab": {
          "base_uri": "https://localhost:8080/"
        },
        "id": "Jvy6vKIfdByD",
        "outputId": "45436792-6d4b-444a-dddb-ceca6ffd8811"
      },
      "execution_count": 45,
      "outputs": [
        {
          "output_type": "stream",
          "name": "stdout",
          "text": [
            "     x   y  rankx  ranky  fin\n",
            "0  105  75    5.0    5.0  0.0\n",
            "1  109  73    4.0    6.5 -2.5\n",
            "2  112  85    3.0    1.0  2.0\n",
            "3   87  70   10.0    8.0  2.0\n",
            "4   98  76    8.0    4.0  4.0\n",
            "5  120  82    1.0    2.0 -1.0\n",
            "6   98  65    8.0   10.0 -2.0\n",
            "7  100  73    6.0    6.5 -0.5\n",
            "8   98  68    8.0    9.0 -1.0\n",
            "9  118  80    2.0    3.0 -1.0\n"
          ]
        }
      ]
    },
    {
      "cell_type": "code",
      "source": [
        "df['d']=df['fin']*df['fin']\n",
        "print(df)"
      ],
      "metadata": {
        "colab": {
          "base_uri": "https://localhost:8080/"
        },
        "id": "BfU6ZE3vdUv8",
        "outputId": "73257335-a4a8-40b6-879a-5bab100993df"
      },
      "execution_count": 46,
      "outputs": [
        {
          "output_type": "stream",
          "name": "stdout",
          "text": [
            "     x   y  rankx  ranky  fin      d\n",
            "0  105  75    5.0    5.0  0.0   0.00\n",
            "1  109  73    4.0    6.5 -2.5   6.25\n",
            "2  112  85    3.0    1.0  2.0   4.00\n",
            "3   87  70   10.0    8.0  2.0   4.00\n",
            "4   98  76    8.0    4.0  4.0  16.00\n",
            "5  120  82    1.0    2.0 -1.0   1.00\n",
            "6   98  65    8.0   10.0 -2.0   4.00\n",
            "7  100  73    6.0    6.5 -0.5   0.25\n",
            "8   98  68    8.0    9.0 -1.0   1.00\n",
            "9  118  80    2.0    3.0 -1.0   1.00\n"
          ]
        }
      ]
    },
    {
      "cell_type": "code",
      "source": [
        "s=0\n",
        "for i in df['d']:\n",
        "  s=s+i\n",
        "\n",
        "coff=1-((6*s)/(len(x)*((len(x)**2)-1)))\n",
        "print(coff)\n"
      ],
      "metadata": {
        "colab": {
          "base_uri": "https://localhost:8080/"
        },
        "id": "fzxrZ_xMdm0q",
        "outputId": "27740130-0ba8-4376-8156-9236e7514203"
      },
      "execution_count": 47,
      "outputs": [
        {
          "output_type": "stream",
          "name": "stdout",
          "text": [
            "0.7727272727272727\n"
          ]
        }
      ]
    }
  ]
}