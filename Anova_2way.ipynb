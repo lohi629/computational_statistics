{
  "nbformat": 4,
  "nbformat_minor": 0,
  "metadata": {
    "colab": {
      "name": "Anova_2way.ipynb",
      "provenance": [],
      "collapsed_sections": [],
      "authorship_tag": "ABX9TyOm1B7sp15iMHtAPFpFxlwd",
      "include_colab_link": true
    },
    "kernelspec": {
      "name": "python3",
      "display_name": "Python 3"
    },
    "language_info": {
      "name": "python"
    }
  },
  "cells": [
    {
      "cell_type": "markdown",
      "metadata": {
        "id": "view-in-github",
        "colab_type": "text"
      },
      "source": [
        "<a href=\"https://colab.research.google.com/github/lohi629/computational_statistics/blob/main/Anova_2way.ipynb\" target=\"_parent\"><img src=\"https://colab.research.google.com/assets/colab-badge.svg\" alt=\"Open In Colab\"/></a>"
      ]
    },
    {
      "cell_type": "code",
      "source": [
        "import numpy as np\n",
        "import pandas as pd\n",
        "d={'b1':[13,6,11],'b2':[7,6,5],'b3':[9,3,15],'b4':[3,1,5]}\n",
        "df=pd.DataFrame(d)\n",
        "df.index=['treatment1','treatment2','treatment3']\n",
        "print(df)"
      ],
      "metadata": {
        "colab": {
          "base_uri": "https://localhost:8080/"
        },
        "id": "mUX99bivLGLd",
        "outputId": "38942742-e51c-4c41-acf8-7b6878b96a33"
      },
      "execution_count": null,
      "outputs": [
        {
          "output_type": "stream",
          "name": "stdout",
          "text": [
            "            b1  b2  b3  b4\n",
            "treatment1  13   7   9   3\n",
            "treatment2   6   6   3   1\n",
            "treatment3  11   5  15   5\n"
          ]
        }
      ]
    },
    {
      "cell_type": "code",
      "source": [
        "b=df.sum(axis=0)\n",
        "print(b)\n",
        "bsq=b*b\n",
        "print(bsq)\n"
      ],
      "metadata": {
        "id": "8CrgAa6HL26v",
        "colab": {
          "base_uri": "https://localhost:8080/"
        },
        "outputId": "82655dc6-ac4c-44ff-ebbf-a7135af588a9"
      },
      "execution_count": null,
      "outputs": [
        {
          "output_type": "stream",
          "name": "stdout",
          "text": [
            "b1    30\n",
            "b2    18\n",
            "b3    27\n",
            "b4     9\n",
            "dtype: int64\n",
            "b1    900\n",
            "b2    324\n",
            "b3    729\n",
            "b4     81\n",
            "dtype: int64\n"
          ]
        }
      ]
    },
    {
      "cell_type": "code",
      "source": [
        "t=df.sum(axis=1)\n",
        "print(t)\n",
        "tsq=t*t\n",
        "print(tsq)"
      ],
      "metadata": {
        "id": "dWxmC2CvL3Dw",
        "colab": {
          "base_uri": "https://localhost:8080/"
        },
        "outputId": "d85d3ff7-c68d-4fd6-8a7b-103455f9c68f"
      },
      "execution_count": null,
      "outputs": [
        {
          "output_type": "stream",
          "name": "stdout",
          "text": [
            "treatment1    32\n",
            "treatment2    16\n",
            "treatment3    36\n",
            "dtype: int64\n",
            "treatment1    1024\n",
            "treatment2     256\n",
            "treatment3    1296\n",
            "dtype: int64\n"
          ]
        }
      ]
    },
    {
      "cell_type": "code",
      "source": [
        "def sum(x):\n",
        "  s=0\n",
        "  for i in x:\n",
        "    s=s+i\n",
        "  return s\n",
        "grandtotal=sum(t)\n",
        "print(\"grandtotal:\",grandtotal)\n",
        "sumtsq=sum(tsq)\n",
        "print(\"tsq:\",sumtsq)"
      ],
      "metadata": {
        "colab": {
          "base_uri": "https://localhost:8080/"
        },
        "id": "tznPYn_b22F1",
        "outputId": "48f3f462-d374-4c5f-fcbf-0002ba84fc87"
      },
      "execution_count": null,
      "outputs": [
        {
          "output_type": "stream",
          "name": "stdout",
          "text": [
            "grandtotal: 84\n",
            "tsq: 2576\n"
          ]
        }
      ]
    },
    {
      "cell_type": "code",
      "source": [
        "sumbsq=sum(bsq)\n",
        "print(\"sumbsq:\",sumbsq)"
      ],
      "metadata": {
        "colab": {
          "base_uri": "https://localhost:8080/"
        },
        "id": "cHYFh6-s22Rm",
        "outputId": "b04b811b-5c67-40e8-d2d1-dde05727ec9b"
      },
      "execution_count": null,
      "outputs": [
        {
          "output_type": "stream",
          "name": "stdout",
          "text": [
            "sumbsq: 2034\n"
          ]
        }
      ]
    },
    {
      "cell_type": "code",
      "source": [
        "rss=0\n",
        "for i in d.keys():\n",
        "  for j in d[i]:\n",
        "    rss=rss+(j*j)\n",
        "cf=(grandtotal)**2/df.size\n",
        "sum_of_tot=rss-cf\n",
        "sum_of_treatments=(sumtsq/len(df.columns)-cf)\n",
        "sum_of_blocks=(sumbsq/len(df)-cf)\n",
        "sum_of_errors=((sum_of_tot-sum_of_treatments)-sum_of_blocks)\n",
        "print(\"rss:\",rss)\n",
        "print(\"cf:\",cf)\n",
        "print(\"sum due to total:\",sum_of_tot)\n",
        "print(\"sum due to treatments:\",sum_of_treatments)\n",
        "print(\"sum due to blocks:\",sum_of_blocks)\n",
        "print(\"sum due to errors:\",sum_of_errors)\n",
        "\n",
        "\n",
        "\n"
      ],
      "metadata": {
        "colab": {
          "base_uri": "https://localhost:8080/"
        },
        "id": "ZpknRfz64TsD",
        "outputId": "3bcff42e-46db-4424-9107-187c3ce35644"
      },
      "execution_count": null,
      "outputs": [
        {
          "output_type": "stream",
          "name": "stdout",
          "text": [
            "rss: 786\n",
            "cf: 588.0\n",
            "sum due to total: 198.0\n",
            "sum due to treatments: 56.0\n",
            "sum due to blocks: 90.0\n",
            "sum due to errors: 52.0\n"
          ]
        }
      ]
    },
    {
      "cell_type": "code",
      "source": [
        "df_treatments=len(df)-1\n",
        "df_blocks=len(df.columns)-1\n",
        "df_error=df_treatments*df_blocks\n",
        "print(df_treatments,df_blocks,df_error,end=\"\")"
      ],
      "metadata": {
        "colab": {
          "base_uri": "https://localhost:8080/"
        },
        "id": "04bR4Lb44Tzu",
        "outputId": "388e5613-cf1c-46ee-f500-75deb0f8a6c0"
      },
      "execution_count": null,
      "outputs": [
        {
          "output_type": "stream",
          "name": "stdout",
          "text": [
            "2 3 6"
          ]
        }
      ]
    },
    {
      "cell_type": "code",
      "source": [
        "mst=sum_of_treatments/df_treatments\n",
        "msb=sum_of_blocks/df_blocks\n",
        "mse=sum_of_errors/df_error\n",
        "print(mst,msb,mse,end=\" \")"
      ],
      "metadata": {
        "colab": {
          "base_uri": "https://localhost:8080/"
        },
        "id": "zKNv1hjB4T2K",
        "outputId": "4eb282cd-79b0-4085-8d71-90511b68f3a2"
      },
      "execution_count": null,
      "outputs": [
        {
          "output_type": "stream",
          "name": "stdout",
          "text": [
            "28.0 30.0 8.666666666666666 "
          ]
        }
      ]
    },
    {
      "cell_type": "code",
      "source": [
        "Fcal_treatments=mst/mse\n",
        "Fcal_blocks=msb/mse\n",
        "print(\"Fcal:\",Fcal_treatments)\n",
        "print(\"Fcal_block:\",Fcal_blocks)"
      ],
      "metadata": {
        "colab": {
          "base_uri": "https://localhost:8080/"
        },
        "id": "J6Vi3w004T5J",
        "outputId": "5ba7b313-b3c1-4af3-85da-3e64bf4031db"
      },
      "execution_count": null,
      "outputs": [
        {
          "output_type": "stream",
          "name": "stdout",
          "text": [
            "Fcal: 3.230769230769231\n",
            "Fcal_block: 3.4615384615384617\n"
          ]
        }
      ]
    },
    {
      "cell_type": "code",
      "source": [
        "import scipy.stats as s\n",
        "F_tab_treat=s.f.ppf(.95,df_treatments,df_error)\n",
        "F_tab_block=s.f.ppf(.95,df_blocks,df_error)\n",
        "print(\"table value for treatments:\",F_tab_treat)\n",
        "print(\"table value for blocks:\",F_tab_block)\n",
        "\n"
      ],
      "metadata": {
        "colab": {
          "base_uri": "https://localhost:8080/"
        },
        "id": "ipI87dWv4T8W",
        "outputId": "9c44e79e-1e8a-40e3-e03c-3ebb38418e54"
      },
      "execution_count": null,
      "outputs": [
        {
          "output_type": "stream",
          "name": "stdout",
          "text": [
            "table value for treatments: 5.143252849784718\n",
            "table value for blocks: 4.757062663089414\n"
          ]
        }
      ]
    },
    {
      "cell_type": "code",
      "source": [
        "if(F_tab_treat>Fcal_treatments):\n",
        "  print(\"homogeneity among treatments\")\n",
        "if(F_tab_block>Fcal_blocks):\n",
        "  print(\"homogeneity among blocks\")\n",
        "else:\n",
        "  print(\"there is no homogeneity\")"
      ],
      "metadata": {
        "colab": {
          "base_uri": "https://localhost:8080/"
        },
        "id": "d-Fuo5sW991a",
        "outputId": "73f63b5f-90b2-44a2-cef9-306ba6bda528"
      },
      "execution_count": null,
      "outputs": [
        {
          "output_type": "stream",
          "name": "stdout",
          "text": [
            "homogeneity among treatments\n",
            "homogeneity among blocks\n"
          ]
        }
      ]
    }
  ]
}