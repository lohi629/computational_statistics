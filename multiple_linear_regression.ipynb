{
 "cells": [
  {
   "cell_type": "code",
   "execution_count": 133,
   "id": "d5b0a0e8",
   "metadata": {},
   "outputs": [
    {
     "name": "stdout",
     "output_type": "stream",
     "text": [
      "      y  x1  x2  x3\n",
      "0   100   1   9  62\n",
      "1   110   1   8  58\n",
      "2   105   1   7  64\n",
      "3    94   1  14  60\n",
      "4    95   1  12  63\n",
      "5    99   1  10  57\n",
      "6   104   1   7  55\n",
      "7   108   1   4  56\n",
      "8   105   1   6  59\n",
      "9    98   1   5  61\n",
      "10  105   1   7  57\n",
      "11  110   1   6  60\n"
     ]
    }
   ],
   "source": [
    "import pandas as pd\n",
    "import numpy as np\n",
    "df=pd.read_excel(\"C:\\\\Users\\\\y20cs95\\\\Desktop\\\\Book1.xlsx\")\n",
    "print(df)"
   ]
  },
  {
   "cell_type": "code",
   "execution_count": 135,
   "id": "a1517b8e",
   "metadata": {},
   "outputs": [
    {
     "name": "stdout",
     "output_type": "stream",
     "text": [
      "0     1\n",
      "1     1\n",
      "2     1\n",
      "3     1\n",
      "4     1\n",
      "5     1\n",
      "6     1\n",
      "7     1\n",
      "8     1\n",
      "9     1\n",
      "10    1\n",
      "11    1\n",
      "Name: x1, dtype: int64\n",
      "0      9\n",
      "1      8\n",
      "2      7\n",
      "3     14\n",
      "4     12\n",
      "5     10\n",
      "6      7\n",
      "7      4\n",
      "8      6\n",
      "9      5\n",
      "10     7\n",
      "11     6\n",
      "Name: x2, dtype: int64\n",
      "0     62\n",
      "1     58\n",
      "2     64\n",
      "3     60\n",
      "4     63\n",
      "5     57\n",
      "6     55\n",
      "7     56\n",
      "8     59\n",
      "9     61\n",
      "10    57\n",
      "11    60\n",
      "Name: x3, dtype: int64\n",
      "0     100\n",
      "1     110\n",
      "2     105\n",
      "3      94\n",
      "4      95\n",
      "5      99\n",
      "6     104\n",
      "7     108\n",
      "8     105\n",
      "9      98\n",
      "10    105\n",
      "11    110\n",
      "Name: y, dtype: int64\n"
     ]
    }
   ],
   "source": [
    "x1=df['x1']\n",
    "x2=df['x2']\n",
    "x3=df['x3']\n",
    "y=df['y']\n",
    "print(x1)\n",
    "print(x2)\n",
    "print(x3)\n",
    "print(y)"
   ]
  },
  {
   "cell_type": "code",
   "execution_count": 136,
   "id": "8f7d7b57",
   "metadata": {},
   "outputs": [
    {
     "name": "stdout",
     "output_type": "stream",
     "text": [
      "[1 1 1 1 1 1 1 1 1 1 1 1] [ 9  8  7 14 12 10  7  4  6  5  7  6] [100 110 105  94  95  99 104 108 105  98 105 110] [62 58 64 60 63 57 55 56 59 61 57 60]\n"
     ]
    }
   ],
   "source": [
    "arr1=x1.to_numpy()\n",
    "arr2=x2.to_numpy()\n",
    "arrx=x3.to_numpy()\n",
    "arr3=y.to_numpy()\n",
    "print(arr1,arr2,arr3,arrx)"
   ]
  },
  {
   "cell_type": "code",
   "execution_count": 137,
   "id": "c8debd76",
   "metadata": {},
   "outputs": [
    {
     "name": "stdout",
     "output_type": "stream",
     "text": [
      "[[ 1  1  1  1  1  1  1  1  1  1  1  1]\n",
      " [ 9  8  7 14 12 10  7  4  6  5  7  6]\n",
      " [62 58 64 60 63 57 55 56 59 61 57 60]]\n",
      "[[100 110 105  94  95  99 104 108 105  98 105 110]]\n"
     ]
    }
   ],
   "source": [
    "arr=np.array([arr1,arr2,arrx])\n",
    "print(arr)\n",
    "y_arr=np.array([arr3])\n",
    "print(y_arr)"
   ]
  },
  {
   "cell_type": "code",
   "execution_count": 138,
   "id": "d1b0c993",
   "metadata": {},
   "outputs": [],
   "source": [
    "def transpose(m):\n",
    "    res=[[0 for i in range(len(m))]for j in range(len(m[0]))]\n",
    "    for i in range(len(m[0])):\n",
    "        for j in range(len(m)):\n",
    "            res[i][j]=m[j][i]\n",
    "    return res"
   ]
  },
  {
   "cell_type": "code",
   "execution_count": 139,
   "id": "81b704c6",
   "metadata": {},
   "outputs": [
    {
     "name": "stdout",
     "output_type": "stream",
     "text": [
      "[[1, 9, 62], [1, 8, 58], [1, 7, 64], [1, 14, 60], [1, 12, 63], [1, 10, 57], [1, 7, 55], [1, 4, 56], [1, 6, 59], [1, 5, 61], [1, 7, 57], [1, 6, 60]]\n",
      "[[100], [110], [105], [94], [95], [99], [104], [108], [105], [98], [105], [110]]\n"
     ]
    }
   ],
   "source": [
    "X=transpose(arr)\n",
    "print(X)\n",
    "Y=transpose(y_arr)\n",
    "print(Y)"
   ]
  },
  {
   "cell_type": "code",
   "execution_count": 140,
   "id": "21e33926",
   "metadata": {},
   "outputs": [],
   "source": [
    "def display(m):\n",
    "    for i in range(len(m)):\n",
    "        for j in range(len(m[0])):\n",
    "            print(m[i][j],end=\" \")\n",
    "        print()"
   ]
  },
  {
   "cell_type": "code",
   "execution_count": 141,
   "id": "21e92cce",
   "metadata": {},
   "outputs": [],
   "source": [
    "def inverse(m):\n",
    "    s=np.linalg.inv(m) \n",
    "    return s"
   ]
  },
  {
   "cell_type": "code",
   "execution_count": 142,
   "id": "1274e74b",
   "metadata": {},
   "outputs": [],
   "source": [
    "def mul(m,n):\n",
    "    c=[[0 for i in range(len(n[0]))]for j in range(len(m))]\n",
    "    for i in range(len(m)):\n",
    "        for j in range(len(n[0])):\n",
    "            for k in range(len(n)):\n",
    "                c[i][j]=c[i][j]+(m[i][k]*n[k][j])\n",
    "    return c\n",
    "        \n",
    "     "
   ]
  },
  {
   "cell_type": "code",
   "execution_count": 143,
   "id": "4ed2f657",
   "metadata": {},
   "outputs": [
    {
     "name": "stdout",
     "output_type": "stream",
     "text": [
      "12 95 712 \n",
      "95 845 5663 \n",
      "712 5663 42334 \n"
     ]
    }
   ],
   "source": [
    "Xtx=mul(arr,X)\n",
    "display(Xtx)"
   ]
  },
  {
   "cell_type": "code",
   "execution_count": 144,
   "id": "8be88216",
   "metadata": {},
   "outputs": [
    {
     "name": "stdout",
     "output_type": "stream",
     "text": [
      "1233 \n",
      "9636 \n",
      "73094 \n"
     ]
    }
   ],
   "source": [
    "q=mul(arr,Y)\n",
    "display(q)"
   ]
  },
  {
   "cell_type": "code",
   "execution_count": 145,
   "id": "c0211f23",
   "metadata": {},
   "outputs": [
    {
     "name": "stdout",
     "output_type": "stream",
     "text": [
      "40.89440259769005 0.1140465198471444 -0.7030438912328081 \n",
      "0.11404651984714678 0.011751452364648463 -0.003490092995515962 \n",
      "-0.7030438912328084 -0.003490092995515922 0.012314726867089485 \n"
     ]
    }
   ],
   "source": [
    "inv=inverse(Xtx)\n",
    "display(inv)"
   ]
  },
  {
   "cell_type": "code",
   "execution_count": 146,
   "id": "9a5671bc",
   "metadata": {},
   "outputs": [
    {
     "name": "stdout",
     "output_type": "stream",
     "text": [
      "133.46048242804682 \n",
      "-1.2485034569591562 \n",
      "-0.351008371805392 \n"
     ]
    }
   ],
   "source": [
    "betacap=mul(inv,q)\n",
    "display(betacap)"
   ]
  },
  {
   "cell_type": "code",
   "execution_count": 183,
   "id": "6bbabd82",
   "metadata": {},
   "outputs": [
    {
     "name": "stdout",
     "output_type": "stream",
     "text": [
      "[133.46048243  -1.24850346  -0.35100837]\n"
     ]
    }
   ],
   "source": [
    "b=np.ravel(betacap)\n",
    "print(b)"
   ]
  },
  {
   "cell_type": "code",
   "execution_count": 148,
   "id": "06d18dc0",
   "metadata": {},
   "outputs": [
    {
     "name": "stdout",
     "output_type": "stream",
     "text": [
      "equation is: y= 133.46048242804682 + -1.2485034569591562 x1 -0.351008371805392 x2\n"
     ]
    }
   ],
   "source": [
    "print(\"equation is:\",\"y=\",betacap[0][0],\"+\",betacap[1][0],\"x1\",betacap[2][0],\"x2\")"
   ]
  },
  {
   "cell_type": "code",
   "execution_count": 150,
   "id": "e1e0687c",
   "metadata": {},
   "outputs": [
    {
     "name": "stdout",
     "output_type": "stream",
     "text": [
      "0     100.461432\n",
      "1     103.113969\n",
      "2     102.256422\n",
      "3      94.920932\n",
      "4      96.364914\n",
      "5     100.967971\n",
      "6     105.415498\n",
      "7     108.810000\n",
      "8     105.259968\n",
      "9     105.806454\n",
      "10    104.713481\n",
      "11    104.908959\n",
      "dtype: float64\n"
     ]
    }
   ],
   "source": [
    "yexp=y\n",
    "ycal=betacap[0][0]+(betacap[1][0]*x2)+(betacap[2][0]*x3)\n",
    "print(ycal)"
   ]
  },
  {
   "cell_type": "code",
   "execution_count": 151,
   "id": "92abb3ea",
   "metadata": {},
   "outputs": [
    {
     "name": "stdout",
     "output_type": "stream",
     "text": [
      "0    -0.461432\n",
      "1     6.886031\n",
      "2     2.743578\n",
      "3    -0.920932\n",
      "4    -1.364914\n",
      "5    -1.967971\n",
      "6    -1.415498\n",
      "7    -0.810000\n",
      "8    -0.259968\n",
      "9    -7.806454\n",
      "10    0.286519\n",
      "11    5.091041\n",
      "dtype: float64\n"
     ]
    }
   ],
   "source": [
    "error=yexp-ycal\n",
    "print(error)"
   ]
  },
  {
   "cell_type": "code",
   "execution_count": 152,
   "id": "b339f402",
   "metadata": {},
   "outputs": [],
   "source": [
    "def sum(x):\n",
    "    s=0\n",
    "    for i in x:\n",
    "        s=s+i\n",
    "    return s"
   ]
  },
  {
   "cell_type": "code",
   "execution_count": 153,
   "id": "ce56ed47",
   "metadata": {},
   "outputs": [
    {
     "name": "stdout",
     "output_type": "stream",
     "text": [
      "sse: 151.41040622031764\n"
     ]
    }
   ],
   "source": [
    "errorsq=error*error\n",
    "sum_error=sum(errorsq)\n",
    "print(\"sse:\",sum_error)"
   ]
  },
  {
   "cell_type": "code",
   "execution_count": 154,
   "id": "3fe8c031",
   "metadata": {},
   "outputs": [
    {
     "name": "stdout",
     "output_type": "stream",
     "text": [
      "102.75\n"
     ]
    }
   ],
   "source": [
    "ysum=sum(y)\n",
    "ymean=ysum/len(y)\n",
    "print(ymean)"
   ]
  },
  {
   "cell_type": "code",
   "execution_count": 157,
   "id": "b93ab56a",
   "metadata": {},
   "outputs": [
    {
     "name": "stdout",
     "output_type": "stream",
     "text": [
      "sst: 330.25\n"
     ]
    }
   ],
   "source": [
    "ydiff=y-ymean\n",
    "ydif=ydiff**2\n",
    "sst=sum(ydif)\n",
    "print(\"sst:\",sst)"
   ]
  },
  {
   "cell_type": "code",
   "execution_count": 159,
   "id": "d92be41c",
   "metadata": {},
   "outputs": [
    {
     "name": "stdout",
     "output_type": "stream",
     "text": [
      "ssr: 178.83959377968236\n"
     ]
    }
   ],
   "source": [
    "ssr=sst-sum_error\n",
    "print(\"ssr:\",ssr)"
   ]
  },
  {
   "cell_type": "code",
   "execution_count": 160,
   "id": "9b392985",
   "metadata": {},
   "outputs": [
    {
     "name": "stdout",
     "output_type": "stream",
     "text": [
      "0.5415279145486218\n"
     ]
    }
   ],
   "source": [
    "coff_of_det=ssr/sst\n",
    "print(coff_of_det)\n"
   ]
  },
  {
   "cell_type": "code",
   "execution_count": 161,
   "id": "e0f95ea8",
   "metadata": {},
   "outputs": [
    {
     "name": "stdout",
     "output_type": "stream",
     "text": [
      "bad fit\n"
     ]
    }
   ],
   "source": [
    "if(coff_of_det>0.90):\n",
    "    print(\"good fit\")\n",
    "else:\n",
    "    print(\"bad fit\")"
   ]
  },
  {
   "cell_type": "markdown",
   "id": "bb0fc874",
   "metadata": {},
   "source": [
    "# Anova\n"
   ]
  },
  {
   "cell_type": "code",
   "execution_count": 170,
   "id": "8fc7c7a6",
   "metadata": {},
   "outputs": [
    {
     "name": "stdout",
     "output_type": "stream",
     "text": [
      "Fcal: 5.315210440935849\n"
     ]
    }
   ],
   "source": [
    "df_regression=len(betacap)-1\n",
    "df_error=len(df)-len(betacap)\n",
    "mean_ssr=ssr/df_regression\n",
    "mean_sse=sum_error/df_error\n",
    "Fcal=mean_ssr/mean_sse\n",
    "print(\"Fcal:\",Fcal)"
   ]
  },
  {
   "cell_type": "code",
   "execution_count": 172,
   "id": "58e2b291",
   "metadata": {},
   "outputs": [
    {
     "name": "stdout",
     "output_type": "stream",
     "text": [
      "tablevalue: 4.25649472909375\n"
     ]
    }
   ],
   "source": [
    "import scipy.stats as s\n",
    "Ftab=s.f.ppf(.95,df_regression,df_error)\n",
    "print(\"tablevalue:\",Ftab)"
   ]
  },
  {
   "cell_type": "code",
   "execution_count": 173,
   "id": "384726c0",
   "metadata": {},
   "outputs": [
    {
     "name": "stdout",
     "output_type": "stream",
     "text": [
      "reject null hypothesis and accept model\n"
     ]
    }
   ],
   "source": [
    "if(Fcal>=Ftab):\n",
    "    print(\"reject null hypothesis and accept model\")\n",
    "else:\n",
    "    print(\"accept null and reject model\")"
   ]
  },
  {
   "cell_type": "markdown",
   "id": "240eb14a",
   "metadata": {},
   "source": [
    "# test for parameters"
   ]
  },
  {
   "cell_type": "code",
   "execution_count": 197,
   "id": "a91fb14f",
   "metadata": {},
   "outputs": [
    {
     "name": "stdout",
     "output_type": "stream",
     "text": [
      "[40.89440259769005, 0.011751452364648463, 0.012314726867089485]\n"
     ]
    }
   ],
   "source": [
    "c=[]\n",
    "for i in range(len(inv)):\n",
    "    for j in range(len(inv[0])):\n",
    "        if(i==j):\n",
    "            c.append(inv[i][j])\n",
    "print(c)\n",
    "            "
   ]
  },
  {
   "cell_type": "code",
   "execution_count": 198,
   "id": "42a3f0ea",
   "metadata": {},
   "outputs": [
    {
     "name": "stdout",
     "output_type": "stream",
     "text": [
      "[5.088199707759956, 2.8079370633903307, 0.7711670682669088]\n"
     ]
    }
   ],
   "source": [
    "\n",
    "se=[]\n",
    "t=[]\n",
    "for i in c:\n",
    "    p=(mean_sse*i)**0.5\n",
    "    se.append(p)\n",
    "for i in range(len(se)):\n",
    "    s=b[i]/se[i]\n",
    "    t.append(abs(s))\n",
    "print(t)\n",
    "    \n",
    "    \n",
    "    "
   ]
  },
  {
   "cell_type": "code",
   "execution_count": 211,
   "id": "780fa584",
   "metadata": {},
   "outputs": [
    {
     "name": "stdout",
     "output_type": "stream",
     "text": [
      "2.262157162740992\n"
     ]
    }
   ],
   "source": [
    "import scipy.stats as s\n",
    "ttab=s.t.ppf(0.05/2,df_error)\n",
    "t_tab=abs(ttab)\n",
    "print(t_tab)"
   ]
  },
  {
   "cell_type": "code",
   "execution_count": 214,
   "id": "50d8c9a8",
   "metadata": {},
   "outputs": [
    {
     "name": "stdout",
     "output_type": "stream",
     "text": [
      "reject null and variable is contributing to model\n",
      "reject null and variable is contributing to model\n",
      "accept null and variable is not contributing to model\n"
     ]
    }
   ],
   "source": [
    "for i in t:\n",
    "    if(i>=t_tab):\n",
    "        print(\"reject null and variable is contributing to model\")\n",
    "    else:\n",
    "        print(\"accept null and variable is not contributing to model\")"
   ]
  },
  {
   "cell_type": "code",
   "execution_count": null,
   "id": "07efd27e",
   "metadata": {},
   "outputs": [],
   "source": []
  }
 ],
 "metadata": {
  "kernelspec": {
   "display_name": "Python 3 (ipykernel)",
   "language": "python",
   "name": "python3"
  },
  "language_info": {
   "codemirror_mode": {
    "name": "ipython",
    "version": 3
   },
   "file_extension": ".py",
   "mimetype": "text/x-python",
   "name": "python",
   "nbconvert_exporter": "python",
   "pygments_lexer": "ipython3",
   "version": "3.9.7"
  }
 },
 "nbformat": 4,
 "nbformat_minor": 5
}
